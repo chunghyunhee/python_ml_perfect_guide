{
 "cells": [
  {
   "cell_type": "code",
   "execution_count": 1,
   "metadata": {},
   "outputs": [
    {
     "name": "stdout",
     "output_type": "stream",
     "text": [
      "2.2.1\n"
     ]
    }
   ],
   "source": [
    "import lightgbm\n",
    "\n",
    "print(lightgbm.__version__)"
   ]
  },
  {
   "cell_type": "markdown",
   "metadata": {},
   "source": [
    "### LightGBM 적용 – 위스콘신 Breast Cancer Prediction"
   ]
  },
  {
   "cell_type": "code",
   "execution_count": 2,
   "metadata": {},
   "outputs": [
    {
     "name": "stdout",
     "output_type": "stream",
     "text": [
      "[1]\tvalid_0's binary_logloss: 0.565079\tvalid_0's binary_logloss: 0.565079\n",
      "Training until validation scores don't improve for 100 rounds.\n",
      "[2]\tvalid_0's binary_logloss: 0.507451\tvalid_0's binary_logloss: 0.507451\n",
      "[3]\tvalid_0's binary_logloss: 0.458489\tvalid_0's binary_logloss: 0.458489\n",
      "[4]\tvalid_0's binary_logloss: 0.417481\tvalid_0's binary_logloss: 0.417481\n",
      "[5]\tvalid_0's binary_logloss: 0.385507\tvalid_0's binary_logloss: 0.385507\n",
      "[6]\tvalid_0's binary_logloss: 0.355846\tvalid_0's binary_logloss: 0.355846\n",
      "[7]\tvalid_0's binary_logloss: 0.330897\tvalid_0's binary_logloss: 0.330897\n",
      "[8]\tvalid_0's binary_logloss: 0.306923\tvalid_0's binary_logloss: 0.306923\n",
      "[9]\tvalid_0's binary_logloss: 0.28776\tvalid_0's binary_logloss: 0.28776\n",
      "[10]\tvalid_0's binary_logloss: 0.26917\tvalid_0's binary_logloss: 0.26917\n",
      "[11]\tvalid_0's binary_logloss: 0.250954\tvalid_0's binary_logloss: 0.250954\n",
      "[12]\tvalid_0's binary_logloss: 0.23847\tvalid_0's binary_logloss: 0.23847\n",
      "[13]\tvalid_0's binary_logloss: 0.225865\tvalid_0's binary_logloss: 0.225865\n",
      "[14]\tvalid_0's binary_logloss: 0.215076\tvalid_0's binary_logloss: 0.215076\n",
      "[15]\tvalid_0's binary_logloss: 0.205996\tvalid_0's binary_logloss: 0.205996\n",
      "[16]\tvalid_0's binary_logloss: 0.196091\tvalid_0's binary_logloss: 0.196091\n",
      "[17]\tvalid_0's binary_logloss: 0.186395\tvalid_0's binary_logloss: 0.186395\n",
      "[18]\tvalid_0's binary_logloss: 0.17942\tvalid_0's binary_logloss: 0.17942\n",
      "[19]\tvalid_0's binary_logloss: 0.174727\tvalid_0's binary_logloss: 0.174727\n",
      "[20]\tvalid_0's binary_logloss: 0.168563\tvalid_0's binary_logloss: 0.168563\n",
      "[21]\tvalid_0's binary_logloss: 0.165432\tvalid_0's binary_logloss: 0.165432\n",
      "[22]\tvalid_0's binary_logloss: 0.160356\tvalid_0's binary_logloss: 0.160356\n",
      "[23]\tvalid_0's binary_logloss: 0.155508\tvalid_0's binary_logloss: 0.155508\n",
      "[24]\tvalid_0's binary_logloss: 0.151598\tvalid_0's binary_logloss: 0.151598\n",
      "[25]\tvalid_0's binary_logloss: 0.149861\tvalid_0's binary_logloss: 0.149861\n",
      "[26]\tvalid_0's binary_logloss: 0.149873\tvalid_0's binary_logloss: 0.149873\n",
      "[27]\tvalid_0's binary_logloss: 0.147032\tvalid_0's binary_logloss: 0.147032\n",
      "[28]\tvalid_0's binary_logloss: 0.145077\tvalid_0's binary_logloss: 0.145077\n",
      "[29]\tvalid_0's binary_logloss: 0.139891\tvalid_0's binary_logloss: 0.139891\n",
      "[30]\tvalid_0's binary_logloss: 0.137416\tvalid_0's binary_logloss: 0.137416\n",
      "[31]\tvalid_0's binary_logloss: 0.138393\tvalid_0's binary_logloss: 0.138393\n",
      "[32]\tvalid_0's binary_logloss: 0.135948\tvalid_0's binary_logloss: 0.135948\n",
      "[33]\tvalid_0's binary_logloss: 0.132968\tvalid_0's binary_logloss: 0.132968\n",
      "[34]\tvalid_0's binary_logloss: 0.129697\tvalid_0's binary_logloss: 0.129697\n",
      "[35]\tvalid_0's binary_logloss: 0.131102\tvalid_0's binary_logloss: 0.131102\n",
      "[36]\tvalid_0's binary_logloss: 0.129382\tvalid_0's binary_logloss: 0.129382\n",
      "[37]\tvalid_0's binary_logloss: 0.128044\tvalid_0's binary_logloss: 0.128044\n",
      "[38]\tvalid_0's binary_logloss: 0.127325\tvalid_0's binary_logloss: 0.127325\n",
      "[39]\tvalid_0's binary_logloss: 0.128091\tvalid_0's binary_logloss: 0.128091\n",
      "[40]\tvalid_0's binary_logloss: 0.129045\tvalid_0's binary_logloss: 0.129045\n",
      "[41]\tvalid_0's binary_logloss: 0.127023\tvalid_0's binary_logloss: 0.127023\n",
      "[42]\tvalid_0's binary_logloss: 0.129314\tvalid_0's binary_logloss: 0.129314\n",
      "[43]\tvalid_0's binary_logloss: 0.129175\tvalid_0's binary_logloss: 0.129175\n",
      "[44]\tvalid_0's binary_logloss: 0.128212\tvalid_0's binary_logloss: 0.128212\n",
      "[45]\tvalid_0's binary_logloss: 0.126664\tvalid_0's binary_logloss: 0.126664\n",
      "[46]\tvalid_0's binary_logloss: 0.127662\tvalid_0's binary_logloss: 0.127662\n",
      "[47]\tvalid_0's binary_logloss: 0.126108\tvalid_0's binary_logloss: 0.126108\n",
      "[48]\tvalid_0's binary_logloss: 0.129371\tvalid_0's binary_logloss: 0.129371\n",
      "[49]\tvalid_0's binary_logloss: 0.129573\tvalid_0's binary_logloss: 0.129573\n",
      "[50]\tvalid_0's binary_logloss: 0.130876\tvalid_0's binary_logloss: 0.130876\n",
      "[51]\tvalid_0's binary_logloss: 0.131366\tvalid_0's binary_logloss: 0.131366\n",
      "[52]\tvalid_0's binary_logloss: 0.131336\tvalid_0's binary_logloss: 0.131336\n",
      "[53]\tvalid_0's binary_logloss: 0.13208\tvalid_0's binary_logloss: 0.13208\n",
      "[54]\tvalid_0's binary_logloss: 0.13306\tvalid_0's binary_logloss: 0.13306\n",
      "[55]\tvalid_0's binary_logloss: 0.132342\tvalid_0's binary_logloss: 0.132342\n",
      "[56]\tvalid_0's binary_logloss: 0.134836\tvalid_0's binary_logloss: 0.134836\n",
      "[57]\tvalid_0's binary_logloss: 0.135208\tvalid_0's binary_logloss: 0.135208\n",
      "[58]\tvalid_0's binary_logloss: 0.13328\tvalid_0's binary_logloss: 0.13328\n",
      "[59]\tvalid_0's binary_logloss: 0.134147\tvalid_0's binary_logloss: 0.134147\n",
      "[60]\tvalid_0's binary_logloss: 0.134549\tvalid_0's binary_logloss: 0.134549\n",
      "[61]\tvalid_0's binary_logloss: 0.133202\tvalid_0's binary_logloss: 0.133202\n",
      "[62]\tvalid_0's binary_logloss: 0.135726\tvalid_0's binary_logloss: 0.135726\n",
      "[63]\tvalid_0's binary_logloss: 0.134011\tvalid_0's binary_logloss: 0.134011\n",
      "[64]\tvalid_0's binary_logloss: 0.131493\tvalid_0's binary_logloss: 0.131493\n",
      "[65]\tvalid_0's binary_logloss: 0.134114\tvalid_0's binary_logloss: 0.134114\n",
      "[66]\tvalid_0's binary_logloss: 0.134525\tvalid_0's binary_logloss: 0.134525\n",
      "[67]\tvalid_0's binary_logloss: 0.131412\tvalid_0's binary_logloss: 0.131412\n",
      "[68]\tvalid_0's binary_logloss: 0.12878\tvalid_0's binary_logloss: 0.12878\n",
      "[69]\tvalid_0's binary_logloss: 0.129571\tvalid_0's binary_logloss: 0.129571\n",
      "[70]\tvalid_0's binary_logloss: 0.129671\tvalid_0's binary_logloss: 0.129671\n",
      "[71]\tvalid_0's binary_logloss: 0.129935\tvalid_0's binary_logloss: 0.129935\n",
      "[72]\tvalid_0's binary_logloss: 0.128951\tvalid_0's binary_logloss: 0.128951\n",
      "[73]\tvalid_0's binary_logloss: 0.128977\tvalid_0's binary_logloss: 0.128977\n",
      "[74]\tvalid_0's binary_logloss: 0.127121\tvalid_0's binary_logloss: 0.127121\n",
      "[75]\tvalid_0's binary_logloss: 0.128107\tvalid_0's binary_logloss: 0.128107\n",
      "[76]\tvalid_0's binary_logloss: 0.129796\tvalid_0's binary_logloss: 0.129796\n",
      "[77]\tvalid_0's binary_logloss: 0.131663\tvalid_0's binary_logloss: 0.131663\n",
      "[78]\tvalid_0's binary_logloss: 0.132483\tvalid_0's binary_logloss: 0.132483\n",
      "[79]\tvalid_0's binary_logloss: 0.131578\tvalid_0's binary_logloss: 0.131578\n",
      "[80]\tvalid_0's binary_logloss: 0.130352\tvalid_0's binary_logloss: 0.130352\n",
      "[81]\tvalid_0's binary_logloss: 0.129895\tvalid_0's binary_logloss: 0.129895\n",
      "[82]\tvalid_0's binary_logloss: 0.131587\tvalid_0's binary_logloss: 0.131587\n",
      "[83]\tvalid_0's binary_logloss: 0.132763\tvalid_0's binary_logloss: 0.132763\n",
      "[84]\tvalid_0's binary_logloss: 0.133677\tvalid_0's binary_logloss: 0.133677\n",
      "[85]\tvalid_0's binary_logloss: 0.137552\tvalid_0's binary_logloss: 0.137552\n",
      "[86]\tvalid_0's binary_logloss: 0.136055\tvalid_0's binary_logloss: 0.136055\n",
      "[87]\tvalid_0's binary_logloss: 0.137904\tvalid_0's binary_logloss: 0.137904\n",
      "[88]\tvalid_0's binary_logloss: 0.139524\tvalid_0's binary_logloss: 0.139524\n",
      "[89]\tvalid_0's binary_logloss: 0.138434\tvalid_0's binary_logloss: 0.138434\n",
      "[90]\tvalid_0's binary_logloss: 0.138402\tvalid_0's binary_logloss: 0.138402\n",
      "[91]\tvalid_0's binary_logloss: 0.139384\tvalid_0's binary_logloss: 0.139384\n",
      "[92]\tvalid_0's binary_logloss: 0.139642\tvalid_0's binary_logloss: 0.139642\n",
      "[93]\tvalid_0's binary_logloss: 0.138006\tvalid_0's binary_logloss: 0.138006\n",
      "[94]\tvalid_0's binary_logloss: 0.141612\tvalid_0's binary_logloss: 0.141612\n",
      "[95]\tvalid_0's binary_logloss: 0.142319\tvalid_0's binary_logloss: 0.142319\n",
      "[96]\tvalid_0's binary_logloss: 0.145095\tvalid_0's binary_logloss: 0.145095\n",
      "[97]\tvalid_0's binary_logloss: 0.141542\tvalid_0's binary_logloss: 0.141542\n",
      "[98]\tvalid_0's binary_logloss: 0.144993\tvalid_0's binary_logloss: 0.144993\n",
      "[99]\tvalid_0's binary_logloss: 0.147936\tvalid_0's binary_logloss: 0.147936\n",
      "[100]\tvalid_0's binary_logloss: 0.147432\tvalid_0's binary_logloss: 0.147432\n",
      "[101]\tvalid_0's binary_logloss: 0.149689\tvalid_0's binary_logloss: 0.149689\n",
      "[102]\tvalid_0's binary_logloss: 0.153542\tvalid_0's binary_logloss: 0.153542\n",
      "[103]\tvalid_0's binary_logloss: 0.154556\tvalid_0's binary_logloss: 0.154556\n",
      "[104]\tvalid_0's binary_logloss: 0.155458\tvalid_0's binary_logloss: 0.155458\n",
      "[105]\tvalid_0's binary_logloss: 0.159357\tvalid_0's binary_logloss: 0.159357\n",
      "[106]\tvalid_0's binary_logloss: 0.160176\tvalid_0's binary_logloss: 0.160176\n",
      "[107]\tvalid_0's binary_logloss: 0.163369\tvalid_0's binary_logloss: 0.163369\n",
      "[108]\tvalid_0's binary_logloss: 0.163494\tvalid_0's binary_logloss: 0.163494\n",
      "[109]\tvalid_0's binary_logloss: 0.161111\tvalid_0's binary_logloss: 0.161111\n",
      "[110]\tvalid_0's binary_logloss: 0.16332\tvalid_0's binary_logloss: 0.16332\n",
      "[111]\tvalid_0's binary_logloss: 0.1663\tvalid_0's binary_logloss: 0.1663\n",
      "[112]\tvalid_0's binary_logloss: 0.166363\tvalid_0's binary_logloss: 0.166363\n",
      "[113]\tvalid_0's binary_logloss: 0.169834\tvalid_0's binary_logloss: 0.169834\n",
      "[114]\tvalid_0's binary_logloss: 0.166509\tvalid_0's binary_logloss: 0.166509\n",
      "[115]\tvalid_0's binary_logloss: 0.165823\tvalid_0's binary_logloss: 0.165823\n",
      "[116]\tvalid_0's binary_logloss: 0.167059\tvalid_0's binary_logloss: 0.167059\n",
      "[117]\tvalid_0's binary_logloss: 0.169086\tvalid_0's binary_logloss: 0.169086\n",
      "[118]\tvalid_0's binary_logloss: 0.170012\tvalid_0's binary_logloss: 0.170012\n",
      "[119]\tvalid_0's binary_logloss: 0.168639\tvalid_0's binary_logloss: 0.168639\n",
      "[120]\tvalid_0's binary_logloss: 0.16907\tvalid_0's binary_logloss: 0.16907\n",
      "[121]\tvalid_0's binary_logloss: 0.16918\tvalid_0's binary_logloss: 0.16918\n",
      "[122]\tvalid_0's binary_logloss: 0.170233\tvalid_0's binary_logloss: 0.170233\n",
      "[123]\tvalid_0's binary_logloss: 0.165655\tvalid_0's binary_logloss: 0.165655\n",
      "[124]\tvalid_0's binary_logloss: 0.16695\tvalid_0's binary_logloss: 0.16695\n",
      "[125]\tvalid_0's binary_logloss: 0.170955\tvalid_0's binary_logloss: 0.170955\n",
      "[126]\tvalid_0's binary_logloss: 0.168916\tvalid_0's binary_logloss: 0.168916\n",
      "[127]\tvalid_0's binary_logloss: 0.172316\tvalid_0's binary_logloss: 0.172316\n",
      "[128]\tvalid_0's binary_logloss: 0.173734\tvalid_0's binary_logloss: 0.173734\n",
      "[129]\tvalid_0's binary_logloss: 0.174309\tvalid_0's binary_logloss: 0.174309\n",
      "[130]\tvalid_0's binary_logloss: 0.176719\tvalid_0's binary_logloss: 0.176719\n",
      "[131]\tvalid_0's binary_logloss: 0.176591\tvalid_0's binary_logloss: 0.176591\n",
      "[132]\tvalid_0's binary_logloss: 0.180168\tvalid_0's binary_logloss: 0.180168\n",
      "[133]\tvalid_0's binary_logloss: 0.179856\tvalid_0's binary_logloss: 0.179856\n",
      "[134]\tvalid_0's binary_logloss: 0.179251\tvalid_0's binary_logloss: 0.179251\n"
     ]
    },
    {
     "name": "stdout",
     "output_type": "stream",
     "text": [
      "[135]\tvalid_0's binary_logloss: 0.18315\tvalid_0's binary_logloss: 0.18315\n",
      "[136]\tvalid_0's binary_logloss: 0.184656\tvalid_0's binary_logloss: 0.184656\n",
      "[137]\tvalid_0's binary_logloss: 0.187475\tvalid_0's binary_logloss: 0.187475\n",
      "[138]\tvalid_0's binary_logloss: 0.188721\tvalid_0's binary_logloss: 0.188721\n",
      "[139]\tvalid_0's binary_logloss: 0.188542\tvalid_0's binary_logloss: 0.188542\n",
      "[140]\tvalid_0's binary_logloss: 0.18817\tvalid_0's binary_logloss: 0.18817\n",
      "[141]\tvalid_0's binary_logloss: 0.185899\tvalid_0's binary_logloss: 0.185899\n",
      "[142]\tvalid_0's binary_logloss: 0.185452\tvalid_0's binary_logloss: 0.185452\n",
      "[143]\tvalid_0's binary_logloss: 0.186084\tvalid_0's binary_logloss: 0.186084\n",
      "[144]\tvalid_0's binary_logloss: 0.185302\tvalid_0's binary_logloss: 0.185302\n",
      "[145]\tvalid_0's binary_logloss: 0.187856\tvalid_0's binary_logloss: 0.187856\n",
      "[146]\tvalid_0's binary_logloss: 0.190334\tvalid_0's binary_logloss: 0.190334\n",
      "[147]\tvalid_0's binary_logloss: 0.192769\tvalid_0's binary_logloss: 0.192769\n",
      "Early stopping, best iteration is:\n",
      "[47]\tvalid_0's binary_logloss: 0.126108\tvalid_0's binary_logloss: 0.126108\n"
     ]
    },
    {
     "name": "stderr",
     "output_type": "stream",
     "text": [
      "C:\\Users\\chkwon\\Anaconda3\\lib\\site-packages\\sklearn\\preprocessing\\label.py:151: DeprecationWarning: The truth value of an empty array is ambiguous. Returning False, but in future this will result in an error. Use `array.size > 0` to check that an array is not empty.\n",
      "  if diff:\n"
     ]
    }
   ],
   "source": [
    "# LightGBM의 파이썬 패키지인 lightgbm에서 LGBMClassifier 임포트\n",
    "from lightgbm import LGBMClassifier\n",
    "\n",
    "import pandas as pd\n",
    "import numpy as np\n",
    "from sklearn.datasets import load_breast_cancer\n",
    "from sklearn.model_selection import train_test_split\n",
    "\n",
    "dataset = load_breast_cancer()\n",
    "ftr = dataset.data\n",
    "target = dataset.target\n",
    "\n",
    "# 전체 데이터 중 80%는 학습용 데이터, 20%는 테스트용 데이터 추출\n",
    "X_train, X_test, y_train, y_test=train_test_split(ftr, target, test_size=0.2, random_state=156 )\n",
    "\n",
    "# 앞서 XGBoost와 동일하게 n_estimators는 400 설정. \n",
    "lgbm_wrapper = LGBMClassifier(n_estimators=400)\n",
    "\n",
    "# LightGBM도 XGBoost와 동일하게 조기 중단 수행 가능. \n",
    "evals = [(X_test, y_test)]\n",
    "lgbm_wrapper.fit(X_train, y_train, early_stopping_rounds=100, eval_metric=\"logloss\", \n",
    "                 eval_set=evals, verbose=True)\n",
    "preds = lgbm_wrapper.predict(X_test)\n"
   ]
  },
  {
   "cell_type": "code",
   "execution_count": 3,
   "metadata": {},
   "outputs": [],
   "source": [
    "from sklearn.metrics import confusion_matrix, accuracy_score\n",
    "from sklearn.metrics import precision_score, recall_score\n",
    "from sklearn.metrics import f1_score, roc_auc_score\n",
    "\n",
    "def get_clf_eval(y_test , pred):\n",
    "    confusion = confusion_matrix( y_test, pred)\n",
    "    accuracy = accuracy_score(y_test , pred)\n",
    "    precision = precision_score(y_test , pred)\n",
    "    recall = recall_score(y_test , pred)\n",
    "    f1 = f1_score(y_test,pred)\n",
    "    roc_auc = roc_auc_score(y_test, pred)\n",
    "    print('오차 행렬')\n",
    "    print(confusion)\n",
    "    print('정확도: {0:.4f}, 정밀도: {1:.4f}, 재현율: {2:.4f},\\\n",
    "    F1: {3:.4f}, AUC:{4:.4f}'.format(accuracy, precision, recall, f1, roc_auc))"
   ]
  },
  {
   "cell_type": "code",
   "execution_count": 4,
   "metadata": {},
   "outputs": [
    {
     "name": "stdout",
     "output_type": "stream",
     "text": [
      "오차 행렬\n",
      "[[33  4]\n",
      " [ 2 75]]\n",
      "정확도: 0.9474, 정밀도: 0.9494, 재현율: 0.9740,    F1: 0.9615, AUC:0.9330\n"
     ]
    }
   ],
   "source": [
    "get_clf_eval(y_test, preds)"
   ]
  },
  {
   "cell_type": "code",
   "execution_count": 7,
   "metadata": {},
   "outputs": [
    {
     "ename": "AttributeError",
     "evalue": "Unknown property feature_names",
     "output_type": "error",
     "traceback": [
      "\u001b[1;31m---------------------------------------------------------------------------\u001b[0m",
      "\u001b[1;31mAttributeError\u001b[0m                            Traceback (most recent call last)",
      "\u001b[1;32m<ipython-input-7-a35e6985d0b4>\u001b[0m in \u001b[0;36m<module>\u001b[1;34m()\u001b[0m\n\u001b[0;32m      5\u001b[0m \u001b[1;33m\u001b[0m\u001b[0m\n\u001b[0;32m      6\u001b[0m \u001b[0mfig\u001b[0m\u001b[1;33m,\u001b[0m \u001b[0max\u001b[0m \u001b[1;33m=\u001b[0m \u001b[0mplt\u001b[0m\u001b[1;33m.\u001b[0m\u001b[0msubplots\u001b[0m\u001b[1;33m(\u001b[0m\u001b[0mfigsize\u001b[0m\u001b[1;33m=\u001b[0m\u001b[1;33m(\u001b[0m\u001b[1;36m10\u001b[0m\u001b[1;33m,\u001b[0m \u001b[1;36m12\u001b[0m\u001b[1;33m)\u001b[0m\u001b[1;33m)\u001b[0m\u001b[1;33m\u001b[0m\u001b[0m\n\u001b[1;32m----> 7\u001b[1;33m \u001b[0mplot_importance\u001b[0m\u001b[1;33m(\u001b[0m\u001b[0mlgbm_wrapper\u001b[0m\u001b[1;33m,\u001b[0m \u001b[0max\u001b[0m\u001b[1;33m=\u001b[0m\u001b[0max\u001b[0m\u001b[1;33m,\u001b[0m \u001b[0mfeature_names\u001b[0m\u001b[1;33m=\u001b[0m\u001b[0mdataset\u001b[0m\u001b[1;33m.\u001b[0m\u001b[0mfeature_names\u001b[0m\u001b[1;33m)\u001b[0m\u001b[1;33m\u001b[0m\u001b[0m\n\u001b[0m",
      "\u001b[1;32m~\\Anaconda3\\lib\\site-packages\\lightgbm\\plotting.py\u001b[0m in \u001b[0;36mplot_importance\u001b[1;34m(booster, ax, height, xlim, ylim, title, xlabel, ylabel, importance_type, max_num_features, ignore_zero, figsize, grid, **kwargs)\u001b[0m\n\u001b[0;32m    101\u001b[0m \u001b[1;33m\u001b[0m\u001b[0m\n\u001b[0;32m    102\u001b[0m     \u001b[0mylocs\u001b[0m \u001b[1;33m=\u001b[0m \u001b[0mnp\u001b[0m\u001b[1;33m.\u001b[0m\u001b[0marange\u001b[0m\u001b[1;33m(\u001b[0m\u001b[0mlen\u001b[0m\u001b[1;33m(\u001b[0m\u001b[0mvalues\u001b[0m\u001b[1;33m)\u001b[0m\u001b[1;33m)\u001b[0m\u001b[1;33m\u001b[0m\u001b[0m\n\u001b[1;32m--> 103\u001b[1;33m     \u001b[0max\u001b[0m\u001b[1;33m.\u001b[0m\u001b[0mbarh\u001b[0m\u001b[1;33m(\u001b[0m\u001b[0mylocs\u001b[0m\u001b[1;33m,\u001b[0m \u001b[0mvalues\u001b[0m\u001b[1;33m,\u001b[0m \u001b[0malign\u001b[0m\u001b[1;33m=\u001b[0m\u001b[1;34m'center'\u001b[0m\u001b[1;33m,\u001b[0m \u001b[0mheight\u001b[0m\u001b[1;33m=\u001b[0m\u001b[0mheight\u001b[0m\u001b[1;33m,\u001b[0m \u001b[1;33m**\u001b[0m\u001b[0mkwargs\u001b[0m\u001b[1;33m)\u001b[0m\u001b[1;33m\u001b[0m\u001b[0m\n\u001b[0m\u001b[0;32m    104\u001b[0m \u001b[1;33m\u001b[0m\u001b[0m\n\u001b[0;32m    105\u001b[0m     \u001b[1;32mfor\u001b[0m \u001b[0mx\u001b[0m\u001b[1;33m,\u001b[0m \u001b[0my\u001b[0m \u001b[1;32min\u001b[0m \u001b[0mzip_\u001b[0m\u001b[1;33m(\u001b[0m\u001b[0mvalues\u001b[0m\u001b[1;33m,\u001b[0m \u001b[0mylocs\u001b[0m\u001b[1;33m)\u001b[0m\u001b[1;33m:\u001b[0m\u001b[1;33m\u001b[0m\u001b[0m\n",
      "\u001b[1;32m~\\Anaconda3\\lib\\site-packages\\matplotlib\\axes\\_axes.py\u001b[0m in \u001b[0;36mbarh\u001b[1;34m(self, *args, **kwargs)\u001b[0m\n\u001b[0;32m   2476\u001b[0m         \u001b[0mkwargs\u001b[0m\u001b[1;33m.\u001b[0m\u001b[0msetdefault\u001b[0m\u001b[1;33m(\u001b[0m\u001b[1;34m'orientation'\u001b[0m\u001b[1;33m,\u001b[0m \u001b[1;34m'horizontal'\u001b[0m\u001b[1;33m)\u001b[0m\u001b[1;33m\u001b[0m\u001b[0m\n\u001b[0;32m   2477\u001b[0m         patches = self.bar(x=left, height=height, width=width,\n\u001b[1;32m-> 2478\u001b[1;33m                            bottom=y, **kwargs)\n\u001b[0m\u001b[0;32m   2479\u001b[0m         \u001b[1;32mreturn\u001b[0m \u001b[0mpatches\u001b[0m\u001b[1;33m\u001b[0m\u001b[0m\n\u001b[0;32m   2480\u001b[0m \u001b[1;33m\u001b[0m\u001b[0m\n",
      "\u001b[1;32m~\\Anaconda3\\lib\\site-packages\\matplotlib\\__init__.py\u001b[0m in \u001b[0;36minner\u001b[1;34m(ax, *args, **kwargs)\u001b[0m\n\u001b[0;32m   1853\u001b[0m                         \u001b[1;34m\"the Matplotlib list!)\"\u001b[0m \u001b[1;33m%\u001b[0m \u001b[1;33m(\u001b[0m\u001b[0mlabel_namer\u001b[0m\u001b[1;33m,\u001b[0m \u001b[0mfunc\u001b[0m\u001b[1;33m.\u001b[0m\u001b[0m__name__\u001b[0m\u001b[1;33m)\u001b[0m\u001b[1;33m,\u001b[0m\u001b[1;33m\u001b[0m\u001b[0m\n\u001b[0;32m   1854\u001b[0m                         RuntimeWarning, stacklevel=2)\n\u001b[1;32m-> 1855\u001b[1;33m             \u001b[1;32mreturn\u001b[0m \u001b[0mfunc\u001b[0m\u001b[1;33m(\u001b[0m\u001b[0max\u001b[0m\u001b[1;33m,\u001b[0m \u001b[1;33m*\u001b[0m\u001b[0margs\u001b[0m\u001b[1;33m,\u001b[0m \u001b[1;33m**\u001b[0m\u001b[0mkwargs\u001b[0m\u001b[1;33m)\u001b[0m\u001b[1;33m\u001b[0m\u001b[0m\n\u001b[0m\u001b[0;32m   1856\u001b[0m \u001b[1;33m\u001b[0m\u001b[0m\n\u001b[0;32m   1857\u001b[0m         inner.__doc__ = _add_data_doc(inner.__doc__,\n",
      "\u001b[1;32m~\\Anaconda3\\lib\\site-packages\\matplotlib\\axes\\_axes.py\u001b[0m in \u001b[0;36mbar\u001b[1;34m(self, *args, **kwargs)\u001b[0m\n\u001b[0;32m   2278\u001b[0m                 \u001b[0mlabel\u001b[0m\u001b[1;33m=\u001b[0m\u001b[1;34m'_nolegend_'\u001b[0m\u001b[1;33m,\u001b[0m\u001b[1;33m\u001b[0m\u001b[0m\n\u001b[0;32m   2279\u001b[0m                 )\n\u001b[1;32m-> 2280\u001b[1;33m             \u001b[0mr\u001b[0m\u001b[1;33m.\u001b[0m\u001b[0mupdate\u001b[0m\u001b[1;33m(\u001b[0m\u001b[0mkwargs\u001b[0m\u001b[1;33m)\u001b[0m\u001b[1;33m\u001b[0m\u001b[0m\n\u001b[0m\u001b[0;32m   2281\u001b[0m             \u001b[0mr\u001b[0m\u001b[1;33m.\u001b[0m\u001b[0mget_path\u001b[0m\u001b[1;33m(\u001b[0m\u001b[1;33m)\u001b[0m\u001b[1;33m.\u001b[0m\u001b[0m_interpolation_steps\u001b[0m \u001b[1;33m=\u001b[0m \u001b[1;36m100\u001b[0m\u001b[1;33m\u001b[0m\u001b[0m\n\u001b[0;32m   2282\u001b[0m             \u001b[1;32mif\u001b[0m \u001b[0morientation\u001b[0m \u001b[1;33m==\u001b[0m \u001b[1;34m'vertical'\u001b[0m\u001b[1;33m:\u001b[0m\u001b[1;33m\u001b[0m\u001b[0m\n",
      "\u001b[1;32m~\\Anaconda3\\lib\\site-packages\\matplotlib\\artist.py\u001b[0m in \u001b[0;36mupdate\u001b[1;34m(self, props)\u001b[0m\n\u001b[0;32m    886\u001b[0m         \u001b[1;32mtry\u001b[0m\u001b[1;33m:\u001b[0m\u001b[1;33m\u001b[0m\u001b[0m\n\u001b[0;32m    887\u001b[0m             ret = [_update_property(self, k, v)\n\u001b[1;32m--> 888\u001b[1;33m                    for k, v in props.items()]\n\u001b[0m\u001b[0;32m    889\u001b[0m         \u001b[1;32mfinally\u001b[0m\u001b[1;33m:\u001b[0m\u001b[1;33m\u001b[0m\u001b[0m\n\u001b[0;32m    890\u001b[0m             \u001b[0mself\u001b[0m\u001b[1;33m.\u001b[0m\u001b[0meventson\u001b[0m \u001b[1;33m=\u001b[0m \u001b[0mstore\u001b[0m\u001b[1;33m\u001b[0m\u001b[0m\n",
      "\u001b[1;32m~\\Anaconda3\\lib\\site-packages\\matplotlib\\artist.py\u001b[0m in \u001b[0;36m<listcomp>\u001b[1;34m(.0)\u001b[0m\n\u001b[0;32m    886\u001b[0m         \u001b[1;32mtry\u001b[0m\u001b[1;33m:\u001b[0m\u001b[1;33m\u001b[0m\u001b[0m\n\u001b[0;32m    887\u001b[0m             ret = [_update_property(self, k, v)\n\u001b[1;32m--> 888\u001b[1;33m                    for k, v in props.items()]\n\u001b[0m\u001b[0;32m    889\u001b[0m         \u001b[1;32mfinally\u001b[0m\u001b[1;33m:\u001b[0m\u001b[1;33m\u001b[0m\u001b[0m\n\u001b[0;32m    890\u001b[0m             \u001b[0mself\u001b[0m\u001b[1;33m.\u001b[0m\u001b[0meventson\u001b[0m \u001b[1;33m=\u001b[0m \u001b[0mstore\u001b[0m\u001b[1;33m\u001b[0m\u001b[0m\n",
      "\u001b[1;32m~\\Anaconda3\\lib\\site-packages\\matplotlib\\artist.py\u001b[0m in \u001b[0;36m_update_property\u001b[1;34m(self, k, v)\u001b[0m\n\u001b[0;32m    879\u001b[0m                 \u001b[0mfunc\u001b[0m \u001b[1;33m=\u001b[0m \u001b[0mgetattr\u001b[0m\u001b[1;33m(\u001b[0m\u001b[0mself\u001b[0m\u001b[1;33m,\u001b[0m \u001b[1;34m'set_'\u001b[0m \u001b[1;33m+\u001b[0m \u001b[0mk\u001b[0m\u001b[1;33m,\u001b[0m \u001b[1;32mNone\u001b[0m\u001b[1;33m)\u001b[0m\u001b[1;33m\u001b[0m\u001b[0m\n\u001b[0;32m    880\u001b[0m                 \u001b[1;32mif\u001b[0m \u001b[1;32mnot\u001b[0m \u001b[0mcallable\u001b[0m\u001b[1;33m(\u001b[0m\u001b[0mfunc\u001b[0m\u001b[1;33m)\u001b[0m\u001b[1;33m:\u001b[0m\u001b[1;33m\u001b[0m\u001b[0m\n\u001b[1;32m--> 881\u001b[1;33m                     \u001b[1;32mraise\u001b[0m \u001b[0mAttributeError\u001b[0m\u001b[1;33m(\u001b[0m\u001b[1;34m'Unknown property %s'\u001b[0m \u001b[1;33m%\u001b[0m \u001b[0mk\u001b[0m\u001b[1;33m)\u001b[0m\u001b[1;33m\u001b[0m\u001b[0m\n\u001b[0m\u001b[0;32m    882\u001b[0m                 \u001b[1;32mreturn\u001b[0m \u001b[0mfunc\u001b[0m\u001b[1;33m(\u001b[0m\u001b[0mv\u001b[0m\u001b[1;33m)\u001b[0m\u001b[1;33m\u001b[0m\u001b[0m\n\u001b[0;32m    883\u001b[0m \u001b[1;33m\u001b[0m\u001b[0m\n",
      "\u001b[1;31mAttributeError\u001b[0m: Unknown property feature_names"
     ]
    },
    {
     "data": {
      "image/png": "[encoded data removed]",
      "text/plain": [
       "<Figure size 720x864 with 1 Axes>"
      ]
     },
     "metadata": {},
     "output_type": "display_data"
    }
   ],
   "source": [
    "# plot_importance( )를 이용하여 feature 중요도 시각화\n",
    "from lightgbm import plot_importance\n",
    "import matplotlib.pyplot as plt\n",
    "%matplotlib inline\n",
    "\n",
    "fig, ax = plt.subplots(figsize=(10, 12))\n",
    "plot_importance(lgbm_wrapper, ax=ax, feature_names=dataset.feature_names)"
   ]
  },
  {
   "cell_type": "code",
   "execution_count": null,
   "metadata": {},
   "outputs": [],
   "source": []
  }
 ],
 "metadata": {
  "kernelspec": {
   "display_name": "Python 3",
   "language": "python",
   "name": "python3"
  },
  "language_info": {
   "codemirror_mode": {
    "name": "ipython",
    "version": 3
   },
   "file_extension": ".py",
   "mimetype": "text/x-python",
   "name": "python",
   "nbconvert_exporter": "python",
   "pygments_lexer": "ipython3",
   "version": "3.6.5"
  }
 },
 "nbformat": 4,
 "nbformat_minor": 2
}
