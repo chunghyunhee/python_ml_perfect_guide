{
 "cells": [
  {
   "cell_type": "markdown",
   "metadata": {},
   "source": [
    "<06. 토픽 모델링 (20개 주제를 가진 뉴스그룹 데이터 활용)>\n",
    "- (머신러닝 기반의) 토픽 모델링: 문서집합에 숨은 주제를 찾아내기\n",
    ": 숨겨진 주제를 효과적으로 표현할 수 있는 중심단어를 함축적으로 추출해냄\n",
    "- 많이 사용되는 기법 2가지: 1) LSA (Latent Semantic Analysis), 2) LDA (Latent Dirichlet Allocation, 차원축소의 LDA와 전혀 다름)\n",
    "\n",
    "- 20가지 뉴스그룹 데이터 활용하기:\n",
    "1) 8개 주제를 추출 (모토사이클, 야구, 그래픽스, 윈도우, 중동, 기독교, 전자공학, 의학)\n",
    "2) 텍스트에 LDA기반 토픽모델링 적용\n",
    "cf. 사이킷런도 LDA를 제공함 (토픽 모델링: LatentDirichletAllocation 클래스)\n",
    "\n",
    "먼저, 토픽모델링을 위해 fetch_20newsgroups() API는 categories 모수를 통해, 특정 주제만 필터링하고,\n",
    "추출된 텍스트를 Count 기반으로 벡터화 변환\n",
    "cf. LDA는 Count 기반의 벡터화만 사용\n",
    "- max_features=1000 (word 피처의 개수를 제한)\n",
    "- ngram_range는 (1,2)로 설정하여 피처 백터화 변환하기"
   ]
  },
  {
   "cell_type": "code",
   "execution_count": 2,
   "metadata": {},
   "outputs": [
    {
     "name": "stdout",
     "output_type": "stream",
     "text": [
      "CountVectorizer Shale: (7862, 1000)\n"
     ]
    }
   ],
   "source": [
    "from sklearn.datasets import fetch_20newsgroups\n",
    "from sklearn.feature_extraction.text import CountVectorizer\n",
    "from sklearn.decomposition import LatentDirichletAllocation\n",
    "\n",
    "#8가지 주제 추출하기:\n",
    "cats=['rec.motorcycles','rec.sport.baseball','comp.graphics','comp.windows.x','talk.politics.mideast'\n",
    "     ,'soc.religion.christian','sci.electronics','sci.med']\n",
    "\n",
    "news_df=fetch_20newsgroups(subset='all',remove=('headers','footers','quotes'),categories=cats,random_state=0)\n",
    "\n",
    "count_vect=CountVectorizer(max_df=0.95, max_features=1000, min_df=2, stop_words='english',ngram_range=(1,2))\n",
    "feat_vect=count_vect.fit_transform(news_df.data)\n",
    "print('CountVectorizer Shale:',feat_vect.shape)"
   ]
  },
  {
   "cell_type": "markdown",
   "metadata": {},
   "source": [
    ": (CountVectorizer 객체변수인) feat_vect는 1) 총 7,682개 문서가, 2) 1,000개의 피처로 구성된 행렬데이터 (피처백터화 된)다.\n",
    "\n",
    "- 이제, 피처백터화된 데이터셋에 대해, LDA 토픽모델링 수행하기:\n",
    "1) 토픽 개수는 (위 뉴스그룹에서 추출한 주제와 같은) 8개로 정함\n",
    "- LatentDirichletAllocation 클래스의 n_components 모수를 사용하여, 이 토픽개수를 조정하면 된다."
   ]
  },
  {
   "cell_type": "code",
   "execution_count": 3,
   "metadata": {},
   "outputs": [
    {
     "data": {
      "text/plain": [
       "LatentDirichletAllocation(batch_size=128, doc_topic_prior=None,\n",
       "             evaluate_every=-1, learning_decay=0.7,\n",
       "             learning_method='batch', learning_offset=10.0,\n",
       "             max_doc_update_iter=100, max_iter=10, mean_change_tol=0.001,\n",
       "             n_components=8, n_jobs=None, n_topics=None, perp_tol=0.1,\n",
       "             random_state=0, topic_word_prior=None,\n",
       "             total_samples=1000000.0, verbose=0)"
      ]
     },
     "execution_count": 3,
     "metadata": {},
     "output_type": "execute_result"
    }
   ],
   "source": [
    "lda=LatentDirichletAllocation(n_components=8, random_state=0)\n",
    "lda.fit(feat_vect)"
   ]
  },
  {
   "cell_type": "markdown",
   "metadata": {},
   "source": [
    ": LatentDirichletAllocation.fit(데이터셋) -> 하면, LatentDirichletAllocation 객체는, components_ 속성값을 가지게 된다.\n",
    "\n",
    "- components_는 각 토필마다 각 word 피처가 얼마나 많이 그 토픽에 할당되었는지 수치를 갖고 있다.\n",
    "(값이 클수록 해당 word 피처는 그 토픽의 중심단어임)\n",
    "- 아래에서 components_의 형태, 속성값 확인하자:"
   ]
  },
  {
   "cell_type": "code",
   "execution_count": 5,
   "metadata": {},
   "outputs": [
    {
     "name": "stdout",
     "output_type": "stream",
     "text": [
      "(8, 1000)\n"
     ]
    },
    {
     "data": {
      "text/plain": [
       "array([[3.60992018e+01, 1.35626798e+02, 2.15751867e+01, ...,\n",
       "        3.02911688e+01, 8.66830093e+01, 6.79285199e+01],\n",
       "       [1.25199920e-01, 1.44401815e+01, 1.25045596e-01, ...,\n",
       "        1.81506995e+02, 1.25097844e-01, 9.39593286e+01],\n",
       "       [3.34762663e+02, 1.25176265e-01, 1.46743299e+02, ...,\n",
       "        1.25105772e-01, 3.63689741e+01, 1.25025218e-01],\n",
       "       ...,\n",
       "       [3.60204965e+01, 2.08640688e+01, 4.29606813e+00, ...,\n",
       "        1.45056650e+01, 8.33854413e+00, 1.55690009e+01],\n",
       "       [1.25128711e-01, 1.25247756e-01, 1.25005143e-01, ...,\n",
       "        9.17278769e+01, 1.25177668e-01, 3.74575887e+01],\n",
       "       [5.49258690e+01, 4.47009532e+00, 9.88524814e+00, ...,\n",
       "        4.87048440e+01, 1.25034678e-01, 1.25074632e-01]])"
      ]
     },
     "execution_count": 5,
     "metadata": {},
     "output_type": "execute_result"
    }
   ],
   "source": [
    "print(lda.components_.shape)\n",
    "lda.components_"
   ]
  },
  {
   "cell_type": "markdown",
   "metadata": {},
   "source": [
    ": components_는 array[8,4000]으로 구성됨 (즉, 8개의 토픽별로, 1,000개의 단어 피처가 해당 토픽별로 연관도 값을 가짐)\n",
    "ex. components_array의 0번째 행, 10번째 열 값\n",
    "-> 토픽 0번에 대해서 피처백터화된 행렬에서, 10번째 열에 해당하는 피처가 (토픽 0번에 관련되는) 수치값을 가짐.\n",
    "그러나, lda_model.components_값만 봐서는, 각 토픽별 단어 연관도를 보기 힘들다.\n",
    "\n",
    "- 따라서, display_topics()함수를 만들어, 각 토픽별로 연관도가 높은 순서대로 단어들을 나열해 보자:"
   ]
  },
  {
   "cell_type": "code",
   "execution_count": 6,
   "metadata": {},
   "outputs": [
    {
     "name": "stdout",
     "output_type": "stream",
     "text": [
      "Topic # 0\n",
      "year10gamemedicalhealthteam1220diseasecancer1993gamesyearspatientsgood\n",
      "Topic # 1\n",
      "donjustlikeknowpeoplesaidthinktimevedidnrightgoingsayllway\n",
      "Topic # 2\n",
      "imagefilejpegprogramgifimagesoutputformatfilescolorentry00usebit03\n",
      "Topic # 3\n",
      "likeknowdonthinkusedoesjustgoodtimebookreadinformationpeopleusedpost\n",
      "Topic # 4\n",
      "armenianisraelarmeniansjewsturkishpeopleisraelijewishgovernmentwardos dosturkeyarabarmenia000\n",
      "Topic # 5\n",
      "educomavailablegraphicsftpdatapubmotifmailwidgetsoftwaremitinformationversionsun\n",
      "Topic # 6\n",
      "godpeoplejesuschurchbelievechristdoeschristiansaythinkchristiansbiblefaithsinlife\n",
      "Topic # 7\n",
      "usedosthankswindowsusingwindowdoesdisplayhelplikeproblemserverneedknowrun\n"
     ]
    }
   ],
   "source": [
    "def display_topics(model, feature_names, no_top_words):\n",
    "    for topic_index, topic in enumerate(model.components_):\n",
    "        print('Topic #', topic_index)\n",
    "        \n",
    "        #components_array에서, 가장 값이 큰 순서대로 정렬했을 때, 그 값의 array 인덱스를 반환하기:\n",
    "        topic_word_indexes=topic.argsort()[::-1]\n",
    "        top_indexes=topic_word_indexes[:no_top_words]\n",
    "        \n",
    "        #top_indexes 대상인 인덱스별로, feature_names에 해당하는 단어피처 추출 후, join으로 concat하기:\n",
    "        feature_concat=''.join([feature_names[i] for i in top_indexes])\n",
    "        print(feature_concat)\n",
    "        \n",
    "#CountVectorizer 객체 내의 전체 단어들의 명칭을 get_features_names()를 써서 추출하기:\n",
    "feature_names=count_vect.get_feature_names()\n",
    "\n",
    "#토픽마다 가장 연관도가 높은 단어들을 15개씩 추출하기:\n",
    "display_topics(lda,feature_names,15)"
   ]
  },
  {
   "cell_type": "markdown",
   "metadata": {},
   "source": [
    ": Topic #0, #5, #7이 애매한 주제어들이 추출되어 목적대로 잘 되지 않는 경우도 발생하였다."
   ]
  },
  {
   "cell_type": "markdown",
   "metadata": {},
   "source": [
    "<07. 문서 군집화 소개/실습 (with Opinion review 데이터셋)>\n",
    "\n",
    "- 문서 군집화 (Document Clustering)\n",
    ": 비슷한 텍스트 구성의 문서를 (같은 카테고리로 분류해) 묶어주는 것이다.\n",
    "cf. (이전) 텍스트분류 기반의 문서분류: 이와 유사하지만, 이는 사전에 결정 카테고리값을 가진 학습 데이터셋이 필요했음\n",
    "-> But, 문서군집화에서는 학습데이터셋이 불필요한 비지도학습에 속함 (차이점).\n",
    "- 이전 장에서 배운 군집화 기법을 활용함.\n",
    "\n",
    "[Opinion Review 데이터셋을 이용하여, 문서군집화 수행하기]\n",
    "- 데이터: Opinion Review 데이터셋으로, 51개 텍스트 파일로 구성되며, 각 파일은 호텔(Tripadvisor), 자동차(Edmunds.com), 전자제품(Amazon.com) 사이트에서 가져온 리뷰문서다.\n",
    "각 문서는 약 100개의 문장을 가짐.\n",
    "- 위 데이터를 문서군집화 기법으로, 각 리뷰를 분류해 보자."
   ]
  },
  {
   "cell_type": "code",
   "execution_count": 1,
   "metadata": {},
   "outputs": [
    {
     "name": "stderr",
     "output_type": "stream",
     "text": [
      "C:\\Users\\Jiwon\\Anaconda3\\lib\\site-packages\\ipykernel_launcher.py:10: FutureWarning: read_table is deprecated, use read_csv instead, passing sep='\\t'.\n",
      "  # Remove the CWD from sys.path while we load stuff.\n"
     ]
    },
    {
     "data": {
      "text/html": [
       "<div>\n",
       "<style scoped>\n",
       "    .dataframe tbody tr th:only-of-type {\n",
       "        vertical-align: middle;\n",
       "    }\n",
       "\n",
       "    .dataframe tbody tr th {\n",
       "        vertical-align: top;\n",
       "    }\n",
       "\n",
       "    .dataframe thead th {\n",
       "        text-align: right;\n",
       "    }\n",
       "</style>\n",
       "<table border=\"1\" class=\"dataframe\">\n",
       "  <thead>\n",
       "    <tr style=\"text-align: right;\">\n",
       "      <th></th>\n",
       "      <th>filename</th>\n",
       "      <th>opinion_text</th>\n",
       "    </tr>\n",
       "  </thead>\n",
       "  <tbody>\n",
       "    <tr>\n",
       "      <th>0</th>\n",
       "      <td>eyesight-issues_amazon_kindle</td>\n",
       "      <td>It feels as easy to read as the K1 but doe...</td>\n",
       "    </tr>\n",
       "    <tr>\n",
       "      <th>1</th>\n",
       "      <td>battery-life_netbook_1005ha</td>\n",
       "      <td>6GHz 533FSB cpu, glossy display, 3, Cell 2...</td>\n",
       "    </tr>\n",
       "    <tr>\n",
       "      <th>2</th>\n",
       "      <td>service_swissotel_hotel_chicago</td>\n",
       "      <td>Mediocre room and service for a very extr...</td>\n",
       "    </tr>\n",
       "    <tr>\n",
       "      <th>3</th>\n",
       "      <td>accuracy_garmin_nuvi_255W_gps</td>\n",
       "      <td>, and is very, very acc...</td>\n",
       "    </tr>\n",
       "    <tr>\n",
       "      <th>4</th>\n",
       "      <td>battery-life_amazon_kindle</td>\n",
       "      <td>After I plugged it in to my USB hub on my ...</td>\n",
       "    </tr>\n",
       "  </tbody>\n",
       "</table>\n",
       "</div>"
      ],
      "text/plain": [
       "                          filename  \\\n",
       "0    eyesight-issues_amazon_kindle   \n",
       "1      battery-life_netbook_1005ha   \n",
       "2  service_swissotel_hotel_chicago   \n",
       "3    accuracy_garmin_nuvi_255W_gps   \n",
       "4       battery-life_amazon_kindle   \n",
       "\n",
       "                                        opinion_text  \n",
       "0      It feels as easy to read as the K1 but doe...  \n",
       "1      6GHz 533FSB cpu, glossy display, 3, Cell 2...  \n",
       "2       Mediocre room and service for a very extr...  \n",
       "3                         , and is very, very acc...  \n",
       "4      After I plugged it in to my USB hub on my ...  "
      ]
     },
     "execution_count": 1,
     "metadata": {},
     "output_type": "execute_result"
    }
   ],
   "source": [
    "import pandas as pd\n",
    "import glob, os\n",
    "\n",
    "path=r'Z:\\python\\OpinosisDataset1.0\\topics'\n",
    "all_files=glob.glob(os.path.join(path,\"*.data\"))\n",
    "filename_list=[]\n",
    "opinion_text=[]\n",
    "\n",
    "for file_ in all_files:\n",
    "    df=pd.read_table(file_, index_col=None, header=0, encoding='latin1')\n",
    "    filename_=file_.split('\\\\')[-1]\n",
    "    filename=filename_.split('.')[0]\n",
    "    filename_list.append(filename)\n",
    "    opinion_text.append(df.to_string())\n",
    "    \n",
    "document_df=pd.DataFrame({'filename':filename_list,'opinion_text':opinion_text})\n",
    "document_df.head()"
   ]
  },
  {
   "cell_type": "markdown",
   "metadata": {},
   "source": [
    ": 위를 보면, filename (각 파일명) 만 보더라도, 의견 텍스트 (opinion_text)가 어떤 물건에 대한 리뷰인지 알 수 있다.\n",
    "\n",
    "- 다음으로, 문서를 TF-IDF 형태로 피처 백터화 하자.\n",
    "1) tokenizer는 이전 예제에서 Lemmatization을 구현한 LemNormalize() 함수를 이용함.\n",
    "2) ngram=(1,2).\n",
    "3) min_df와 max_df로 범위를 설정해 피처 개수를 제한함.\n",
    "4) TfidfVectorizer의 fit_transform()의 인자로, document_df 데이터프레임의 opinion_text 열을 입력시키면,\n",
    "개별 문서 텍스트에 대해 TF-IDF 변환된, 피처 백터화된 행렬이 나옴."
   ]
  },
  {
   "cell_type": "code",
   "execution_count": 3,
   "metadata": {},
   "outputs": [],
   "source": [
    "from nltk.stem import WordNetLemmatizer\n",
    "import nltk\n",
    "import string\n",
    "\n",
    "# nltk는 \n",
    "remove_punct_dict = dict((ord(punct), None) for punct in string.punctuation)\n",
    "lemmar = WordNetLemmatizer()\n",
    "\n",
    "def LemTokens(tokens):\n",
    "    return [lemmar.lemmatize(token) for token in tokens]\n",
    "\n",
    "def LemNormalize(text):\n",
    "    return LemTokens(nltk.word_tokenize(text.lower().translate(remove_punct_dict)))"
   ]
  },
  {
   "cell_type": "code",
   "execution_count": 4,
   "metadata": {},
   "outputs": [
    {
     "name": "stderr",
     "output_type": "stream",
     "text": [
      "C:\\Users\\Jiwon\\Anaconda3\\lib\\site-packages\\sklearn\\feature_extraction\\text.py:301: UserWarning: Your stop_words may be inconsistent with your preprocessing. Tokenizing the stop words generated tokens ['ha', 'le', 'u', 'wa'] not in stop_words.\n",
      "  'stop_words.' % sorted(inconsistent))\n"
     ]
    }
   ],
   "source": [
    "from sklearn.feature_extraction.text import TfidfVectorizer\n",
    "\n",
    "tfidf_vect=TfidfVectorizer(tokenizer=LemNormalize, stop_words='english', ngram_range=(1,2), min_df=0.05, max_df=0.85)\n",
    "\n",
    "#opinion_text 열 값으로, 피처백터화 진행하기:\n",
    "feature_vect=tfidf_vect.fit_transform(document_df['opinion_text'])"
   ]
  },
  {
   "cell_type": "markdown",
   "metadata": {},
   "source": [
    "- 다음으로는, 문서별 텍스트가, TF-IDF변환된 피처벡터화 행렬데이터에 대해, 군집화를 수행 -> 어떤 문서끼리 군집되는지 확인하자.\n",
    "- 군집화 기법은 K-평균을 사용.\n",
    "- 문서 유형은 크게 3가지: (1) 전자제품, (2) 자동차, (3) 호텔.\n",
    "- 먼저 5개의 중심(Centroid) 기반으로 어떻게 군집화되는지 확인하자.\n",
    "- 최대 반복횟수: max_iter=10000\n",
    "- KMeans 수행한 뒤, 1) 군집의 레이블값, 2) 중심별로 할당된 데이터셋의 좌표값 구함."
   ]
  },
  {
   "cell_type": "code",
   "execution_count": 6,
   "metadata": {},
   "outputs": [],
   "source": [
    "from sklearn.cluster import KMeans\n",
    "\n",
    "#5개 집합으로 군집화 수행하기:\n",
    "km_cluster=KMeans(n_clusters=5,max_iter=10000,random_state=0)\n",
    "km_cluster.fit(feature_vect)\n",
    "cluster_label=km_cluster.labels_\n",
    "cluster_centers=km_cluster.cluster_centers_"
   ]
  },
  {
   "cell_type": "markdown",
   "metadata": {},
   "source": [
    "- 다음은, 각 데이터마다 할당된 군집의 레이블을, 파일명과 파일내용을 가진 document_df 데이터프레임에 'cluster_label'열을 추가해 저장하자.\n",
    "각 파일명은 리뷰 의견에 대한 주제를 나타냄.\n",
    "군집이 각 주제별로 유사한 형태로 잘 구성됐는지 알아보자."
   ]
  },
  {
   "cell_type": "code",
   "execution_count": 7,
   "metadata": {},
   "outputs": [
    {
     "data": {
      "text/html": [
       "<div>\n",
       "<style scoped>\n",
       "    .dataframe tbody tr th:only-of-type {\n",
       "        vertical-align: middle;\n",
       "    }\n",
       "\n",
       "    .dataframe tbody tr th {\n",
       "        vertical-align: top;\n",
       "    }\n",
       "\n",
       "    .dataframe thead th {\n",
       "        text-align: right;\n",
       "    }\n",
       "</style>\n",
       "<table border=\"1\" class=\"dataframe\">\n",
       "  <thead>\n",
       "    <tr style=\"text-align: right;\">\n",
       "      <th></th>\n",
       "      <th>filename</th>\n",
       "      <th>opinion_text</th>\n",
       "      <th>cluster_label</th>\n",
       "    </tr>\n",
       "  </thead>\n",
       "  <tbody>\n",
       "    <tr>\n",
       "      <th>0</th>\n",
       "      <td>eyesight-issues_amazon_kindle</td>\n",
       "      <td>It feels as easy to read as the K1 but doe...</td>\n",
       "      <td>4</td>\n",
       "    </tr>\n",
       "    <tr>\n",
       "      <th>1</th>\n",
       "      <td>battery-life_netbook_1005ha</td>\n",
       "      <td>6GHz 533FSB cpu, glossy display, 3, Cell 2...</td>\n",
       "      <td>4</td>\n",
       "    </tr>\n",
       "    <tr>\n",
       "      <th>2</th>\n",
       "      <td>service_swissotel_hotel_chicago</td>\n",
       "      <td>Mediocre room and service for a very extr...</td>\n",
       "      <td>2</td>\n",
       "    </tr>\n",
       "    <tr>\n",
       "      <th>3</th>\n",
       "      <td>accuracy_garmin_nuvi_255W_gps</td>\n",
       "      <td>, and is very, very acc...</td>\n",
       "      <td>3</td>\n",
       "    </tr>\n",
       "    <tr>\n",
       "      <th>4</th>\n",
       "      <td>battery-life_amazon_kindle</td>\n",
       "      <td>After I plugged it in to my USB hub on my ...</td>\n",
       "      <td>4</td>\n",
       "    </tr>\n",
       "  </tbody>\n",
       "</table>\n",
       "</div>"
      ],
      "text/plain": [
       "                          filename  \\\n",
       "0    eyesight-issues_amazon_kindle   \n",
       "1      battery-life_netbook_1005ha   \n",
       "2  service_swissotel_hotel_chicago   \n",
       "3    accuracy_garmin_nuvi_255W_gps   \n",
       "4       battery-life_amazon_kindle   \n",
       "\n",
       "                                        opinion_text  cluster_label  \n",
       "0      It feels as easy to read as the K1 but doe...              4  \n",
       "1      6GHz 533FSB cpu, glossy display, 3, Cell 2...              4  \n",
       "2       Mediocre room and service for a very extr...              2  \n",
       "3                         , and is very, very acc...              3  \n",
       "4      After I plugged it in to my USB hub on my ...              4  "
      ]
     },
     "execution_count": 7,
     "metadata": {},
     "output_type": "execute_result"
    }
   ],
   "source": [
    "document_df['cluster_label']=cluster_label\n",
    "document_df.head()"
   ]
  },
  {
   "cell_type": "code",
   "execution_count": 9,
   "metadata": {},
   "outputs": [
    {
     "data": {
      "text/html": [
       "<div>\n",
       "<style scoped>\n",
       "    .dataframe tbody tr th:only-of-type {\n",
       "        vertical-align: middle;\n",
       "    }\n",
       "\n",
       "    .dataframe tbody tr th {\n",
       "        vertical-align: top;\n",
       "    }\n",
       "\n",
       "    .dataframe thead th {\n",
       "        text-align: right;\n",
       "    }\n",
       "</style>\n",
       "<table border=\"1\" class=\"dataframe\">\n",
       "  <thead>\n",
       "    <tr style=\"text-align: right;\">\n",
       "      <th></th>\n",
       "      <th>filename</th>\n",
       "      <th>opinion_text</th>\n",
       "      <th>cluster_label</th>\n",
       "    </tr>\n",
       "  </thead>\n",
       "  <tbody>\n",
       "    <tr>\n",
       "      <th>21</th>\n",
       "      <td>comfort_honda_accord_2008</td>\n",
       "      <td>Drivers seat not comfortable, the car its...</td>\n",
       "      <td>0</td>\n",
       "    </tr>\n",
       "    <tr>\n",
       "      <th>47</th>\n",
       "      <td>comfort_toyota_camry_2007</td>\n",
       "      <td>Ride seems comfortable and gas mileage fa...</td>\n",
       "      <td>0</td>\n",
       "    </tr>\n",
       "    <tr>\n",
       "      <th>10</th>\n",
       "      <td>gas_mileage_toyota_camry_2007</td>\n",
       "      <td>Ride seems comfortable and gas mileage fa...</td>\n",
       "      <td>0</td>\n",
       "    </tr>\n",
       "    <tr>\n",
       "      <th>46</th>\n",
       "      <td>interior_honda_accord_2008</td>\n",
       "      <td>I love the new body style and the interior...</td>\n",
       "      <td>0</td>\n",
       "    </tr>\n",
       "    <tr>\n",
       "      <th>9</th>\n",
       "      <td>interior_toyota_camry_2007</td>\n",
       "      <td>First of all, the interior has way too ma...</td>\n",
       "      <td>0</td>\n",
       "    </tr>\n",
       "    <tr>\n",
       "      <th>39</th>\n",
       "      <td>mileage_honda_accord_2008</td>\n",
       "      <td>It's quiet, get good gas mileage and look...</td>\n",
       "      <td>0</td>\n",
       "    </tr>\n",
       "    <tr>\n",
       "      <th>38</th>\n",
       "      <td>performance_honda_accord_2008</td>\n",
       "      <td>Very happy with my 08 Accord, performance i...</td>\n",
       "      <td>0</td>\n",
       "    </tr>\n",
       "    <tr>\n",
       "      <th>8</th>\n",
       "      <td>quality_toyota_camry_2007</td>\n",
       "      <td>I previously owned a Toyota 4Runner which ...</td>\n",
       "      <td>0</td>\n",
       "    </tr>\n",
       "    <tr>\n",
       "      <th>14</th>\n",
       "      <td>seats_honda_accord_2008</td>\n",
       "      <td>Front seats are very uncomfor...</td>\n",
       "      <td>0</td>\n",
       "    </tr>\n",
       "    <tr>\n",
       "      <th>36</th>\n",
       "      <td>transmission_toyota_camry_2007</td>\n",
       "      <td>After slowing down, transmission has to b...</td>\n",
       "      <td>0</td>\n",
       "    </tr>\n",
       "  </tbody>\n",
       "</table>\n",
       "</div>"
      ],
      "text/plain": [
       "                          filename  \\\n",
       "21       comfort_honda_accord_2008   \n",
       "47       comfort_toyota_camry_2007   \n",
       "10   gas_mileage_toyota_camry_2007   \n",
       "46      interior_honda_accord_2008   \n",
       "9       interior_toyota_camry_2007   \n",
       "39       mileage_honda_accord_2008   \n",
       "38   performance_honda_accord_2008   \n",
       "8        quality_toyota_camry_2007   \n",
       "14         seats_honda_accord_2008   \n",
       "36  transmission_toyota_camry_2007   \n",
       "\n",
       "                                         opinion_text  cluster_label  \n",
       "21       Drivers seat not comfortable, the car its...              0  \n",
       "47       Ride seems comfortable and gas mileage fa...              0  \n",
       "10       Ride seems comfortable and gas mileage fa...              0  \n",
       "46      I love the new body style and the interior...              0  \n",
       "9        First of all, the interior has way too ma...              0  \n",
       "39       It's quiet, get good gas mileage and look...              0  \n",
       "38     Very happy with my 08 Accord, performance i...              0  \n",
       "8       I previously owned a Toyota 4Runner which ...              0  \n",
       "14                   Front seats are very uncomfor...              0  \n",
       "36       After slowing down, transmission has to b...              0  "
      ]
     },
     "execution_count": 9,
     "metadata": {},
     "output_type": "execute_result"
    }
   ],
   "source": [
    "document_df[document_df['cluster_label']==0].sort_values(by='filename') #0번(호텔)로 분류된 데이터만 (filename 알파벳 오름차순으로 정렬)"
   ]
  },
  {
   "cell_type": "code",
   "execution_count": 10,
   "metadata": {},
   "outputs": [
    {
     "data": {
      "text/html": [
       "<div>\n",
       "<style scoped>\n",
       "    .dataframe tbody tr th:only-of-type {\n",
       "        vertical-align: middle;\n",
       "    }\n",
       "\n",
       "    .dataframe tbody tr th {\n",
       "        vertical-align: top;\n",
       "    }\n",
       "\n",
       "    .dataframe thead th {\n",
       "        text-align: right;\n",
       "    }\n",
       "</style>\n",
       "<table border=\"1\" class=\"dataframe\">\n",
       "  <thead>\n",
       "    <tr style=\"text-align: right;\">\n",
       "      <th></th>\n",
       "      <th>filename</th>\n",
       "      <th>opinion_text</th>\n",
       "      <th>cluster_label</th>\n",
       "    </tr>\n",
       "  </thead>\n",
       "  <tbody>\n",
       "    <tr>\n",
       "      <th>50</th>\n",
       "      <td>staff_bestwestern_hotel_sfo</td>\n",
       "      <td>Staff are friendly and hel...</td>\n",
       "      <td>0</td>\n",
       "    </tr>\n",
       "    <tr>\n",
       "      <th>37</th>\n",
       "      <td>price_holiday_inn_london</td>\n",
       "      <td>All in all, a normal chain hotel on a nice...</td>\n",
       "      <td>0</td>\n",
       "    </tr>\n",
       "    <tr>\n",
       "      <th>24</th>\n",
       "      <td>food_holiday_inn_london</td>\n",
       "      <td>The room was packed to capacity with queu...</td>\n",
       "      <td>0</td>\n",
       "    </tr>\n",
       "    <tr>\n",
       "      <th>23</th>\n",
       "      <td>bathroom_bestwestern_hotel_sfo</td>\n",
       "      <td>The room was not overly big, but clean and...</td>\n",
       "      <td>0</td>\n",
       "    </tr>\n",
       "    <tr>\n",
       "      <th>40</th>\n",
       "      <td>staff_swissotel_chicago</td>\n",
       "      <td>The staff at Swissotel were not particula...</td>\n",
       "      <td>0</td>\n",
       "    </tr>\n",
       "    <tr>\n",
       "      <th>20</th>\n",
       "      <td>rooms_swissotel_chicago</td>\n",
       "      <td>The Swissotel is one of our favorite hotel...</td>\n",
       "      <td>0</td>\n",
       "    </tr>\n",
       "    <tr>\n",
       "      <th>19</th>\n",
       "      <td>service_bestwestern_hotel_sfo</td>\n",
       "      <td>Both of us having worked in tourism for o...</td>\n",
       "      <td>0</td>\n",
       "    </tr>\n",
       "    <tr>\n",
       "      <th>18</th>\n",
       "      <td>parking_bestwestern_hotel_sfo</td>\n",
       "      <td>Parking was expensive but I think this is ...</td>\n",
       "      <td>0</td>\n",
       "    </tr>\n",
       "    <tr>\n",
       "      <th>41</th>\n",
       "      <td>rooms_bestwestern_hotel_sfo</td>\n",
       "      <td>Great Location ,  Nice   Rooms ,  Helpless...</td>\n",
       "      <td>0</td>\n",
       "    </tr>\n",
       "    <tr>\n",
       "      <th>16</th>\n",
       "      <td>room_holiday_inn_london</td>\n",
       "      <td>We arrived at 23,30 hours and they could n...</td>\n",
       "      <td>0</td>\n",
       "    </tr>\n",
       "    <tr>\n",
       "      <th>11</th>\n",
       "      <td>service_holiday_inn_london</td>\n",
       "      <td>not customer, oriented hotelvery low servi...</td>\n",
       "      <td>0</td>\n",
       "    </tr>\n",
       "    <tr>\n",
       "      <th>15</th>\n",
       "      <td>location_bestwestern_hotel_sfo</td>\n",
       "      <td>Good Value good location ,  ideal ...</td>\n",
       "      <td>0</td>\n",
       "    </tr>\n",
       "    <tr>\n",
       "      <th>33</th>\n",
       "      <td>food_swissotel_chicago</td>\n",
       "      <td>The food for our event was deli...</td>\n",
       "      <td>0</td>\n",
       "    </tr>\n",
       "    <tr>\n",
       "      <th>2</th>\n",
       "      <td>service_swissotel_hotel_chicago</td>\n",
       "      <td>Mediocre room and service for a very extr...</td>\n",
       "      <td>0</td>\n",
       "    </tr>\n",
       "    <tr>\n",
       "      <th>44</th>\n",
       "      <td>location_holiday_inn_london</td>\n",
       "      <td>Great location for tube and we crammed in...</td>\n",
       "      <td>0</td>\n",
       "    </tr>\n",
       "    <tr>\n",
       "      <th>6</th>\n",
       "      <td>free_bestwestern_hotel_sfo</td>\n",
       "      <td>The wine reception is a great idea as it i...</td>\n",
       "      <td>0</td>\n",
       "    </tr>\n",
       "    <tr>\n",
       "      <th>36</th>\n",
       "      <td>transmission_toyota_camry_2007</td>\n",
       "      <td>After slowing down, transmission has to b...</td>\n",
       "      <td>1</td>\n",
       "    </tr>\n",
       "    <tr>\n",
       "      <th>38</th>\n",
       "      <td>performance_honda_accord_2008</td>\n",
       "      <td>Very happy with my 08 Accord, performance i...</td>\n",
       "      <td>1</td>\n",
       "    </tr>\n",
       "    <tr>\n",
       "      <th>39</th>\n",
       "      <td>mileage_honda_accord_2008</td>\n",
       "      <td>It's quiet, get good gas mileage and look...</td>\n",
       "      <td>1</td>\n",
       "    </tr>\n",
       "    <tr>\n",
       "      <th>47</th>\n",
       "      <td>comfort_toyota_camry_2007</td>\n",
       "      <td>Ride seems comfortable and gas mileage fa...</td>\n",
       "      <td>1</td>\n",
       "    </tr>\n",
       "    <tr>\n",
       "      <th>46</th>\n",
       "      <td>interior_honda_accord_2008</td>\n",
       "      <td>I love the new body style and the interior...</td>\n",
       "      <td>1</td>\n",
       "    </tr>\n",
       "    <tr>\n",
       "      <th>21</th>\n",
       "      <td>comfort_honda_accord_2008</td>\n",
       "      <td>Drivers seat not comfortable, the car its...</td>\n",
       "      <td>1</td>\n",
       "    </tr>\n",
       "    <tr>\n",
       "      <th>8</th>\n",
       "      <td>quality_toyota_camry_2007</td>\n",
       "      <td>I previously owned a Toyota 4Runner which ...</td>\n",
       "      <td>1</td>\n",
       "    </tr>\n",
       "    <tr>\n",
       "      <th>9</th>\n",
       "      <td>interior_toyota_camry_2007</td>\n",
       "      <td>First of all, the interior has way too ma...</td>\n",
       "      <td>1</td>\n",
       "    </tr>\n",
       "    <tr>\n",
       "      <th>14</th>\n",
       "      <td>seats_honda_accord_2008</td>\n",
       "      <td>Front seats are very uncomfor...</td>\n",
       "      <td>1</td>\n",
       "    </tr>\n",
       "    <tr>\n",
       "      <th>10</th>\n",
       "      <td>gas_mileage_toyota_camry_2007</td>\n",
       "      <td>Ride seems comfortable and gas mileage fa...</td>\n",
       "      <td>1</td>\n",
       "    </tr>\n",
       "    <tr>\n",
       "      <th>45</th>\n",
       "      <td>screen_netbook_1005ha</td>\n",
       "      <td>Keep in mind that once you get in a room ...</td>\n",
       "      <td>2</td>\n",
       "    </tr>\n",
       "    <tr>\n",
       "      <th>34</th>\n",
       "      <td>updates_garmin_nuvi_255W_gps</td>\n",
       "      <td>Another thing to consider was that I paid $...</td>\n",
       "      <td>2</td>\n",
       "    </tr>\n",
       "    <tr>\n",
       "      <th>48</th>\n",
       "      <td>speed_windows7</td>\n",
       "      <td>Windows 7 is quite simply faster, more sta...</td>\n",
       "      <td>2</td>\n",
       "    </tr>\n",
       "    <tr>\n",
       "      <th>42</th>\n",
       "      <td>price_amazon_kindle</td>\n",
       "      <td>If a case was included, as with the Kindle...</td>\n",
       "      <td>2</td>\n",
       "    </tr>\n",
       "    <tr>\n",
       "      <th>35</th>\n",
       "      <td>voice_garmin_nuvi_255W_gps</td>\n",
       "      <td>The voice prompts and maps are wonderful ...</td>\n",
       "      <td>2</td>\n",
       "    </tr>\n",
       "    <tr>\n",
       "      <th>43</th>\n",
       "      <td>navigation_amazon_kindle</td>\n",
       "      <td>In fact, the entire navigation structure h...</td>\n",
       "      <td>2</td>\n",
       "    </tr>\n",
       "    <tr>\n",
       "      <th>0</th>\n",
       "      <td>eyesight-issues_amazon_kindle</td>\n",
       "      <td>It feels as easy to read as the K1 but doe...</td>\n",
       "      <td>2</td>\n",
       "    </tr>\n",
       "    <tr>\n",
       "      <th>31</th>\n",
       "      <td>screen_garmin_nuvi_255W_gps</td>\n",
       "      <td>It is easy to read and when touching the...</td>\n",
       "      <td>2</td>\n",
       "    </tr>\n",
       "    <tr>\n",
       "      <th>1</th>\n",
       "      <td>battery-life_netbook_1005ha</td>\n",
       "      <td>6GHz 533FSB cpu, glossy display, 3, Cell 2...</td>\n",
       "      <td>2</td>\n",
       "    </tr>\n",
       "    <tr>\n",
       "      <th>3</th>\n",
       "      <td>accuracy_garmin_nuvi_255W_gps</td>\n",
       "      <td>, and is very, very acc...</td>\n",
       "      <td>2</td>\n",
       "    </tr>\n",
       "    <tr>\n",
       "      <th>4</th>\n",
       "      <td>battery-life_amazon_kindle</td>\n",
       "      <td>After I plugged it in to my USB hub on my ...</td>\n",
       "      <td>2</td>\n",
       "    </tr>\n",
       "    <tr>\n",
       "      <th>5</th>\n",
       "      <td>satellite_garmin_nuvi_255W_gps</td>\n",
       "      <td>It's fast to acquire satel...</td>\n",
       "      <td>2</td>\n",
       "    </tr>\n",
       "    <tr>\n",
       "      <th>7</th>\n",
       "      <td>battery-life_ipod_nano_8gb</td>\n",
       "      <td>short battery life  I moved up from a...</td>\n",
       "      <td>2</td>\n",
       "    </tr>\n",
       "    <tr>\n",
       "      <th>12</th>\n",
       "      <td>display_garmin_nuvi_255W_gps</td>\n",
       "      <td>3 quot  widescreen display was a ...</td>\n",
       "      <td>2</td>\n",
       "    </tr>\n",
       "    <tr>\n",
       "      <th>13</th>\n",
       "      <td>sound_ipod_nano_8gb</td>\n",
       "      <td>headphone jack i got a clear case for it a...</td>\n",
       "      <td>2</td>\n",
       "    </tr>\n",
       "    <tr>\n",
       "      <th>17</th>\n",
       "      <td>screen_ipod_nano_8gb</td>\n",
       "      <td>As always, the video screen is sharp and b...</td>\n",
       "      <td>2</td>\n",
       "    </tr>\n",
       "    <tr>\n",
       "      <th>22</th>\n",
       "      <td>fonts_amazon_kindle</td>\n",
       "      <td>Being able to change the font sizes is aw...</td>\n",
       "      <td>2</td>\n",
       "    </tr>\n",
       "    <tr>\n",
       "      <th>49</th>\n",
       "      <td>buttons_amazon_kindle</td>\n",
       "      <td>I thought it would be fitting to christen ...</td>\n",
       "      <td>2</td>\n",
       "    </tr>\n",
       "    <tr>\n",
       "      <th>26</th>\n",
       "      <td>performance_netbook_1005ha</td>\n",
       "      <td>The Eee Super Hybrid Engine utility lets u...</td>\n",
       "      <td>2</td>\n",
       "    </tr>\n",
       "    <tr>\n",
       "      <th>27</th>\n",
       "      <td>speed_garmin_nuvi_255W_gps</td>\n",
       "      <td>Another feature on the 255w is a display of...</td>\n",
       "      <td>2</td>\n",
       "    </tr>\n",
       "    <tr>\n",
       "      <th>28</th>\n",
       "      <td>video_ipod_nano_8gb</td>\n",
       "      <td>I bought the 8, gig Ipod Nano that has the...</td>\n",
       "      <td>2</td>\n",
       "    </tr>\n",
       "    <tr>\n",
       "      <th>29</th>\n",
       "      <td>directions_garmin_nuvi_255W_gps</td>\n",
       "      <td>You also get upscale features like spoken ...</td>\n",
       "      <td>2</td>\n",
       "    </tr>\n",
       "    <tr>\n",
       "      <th>30</th>\n",
       "      <td>size_asus_netbook_1005ha</td>\n",
       "      <td>A few other things I'd like to point out i...</td>\n",
       "      <td>2</td>\n",
       "    </tr>\n",
       "    <tr>\n",
       "      <th>32</th>\n",
       "      <td>keyboard_netbook_1005ha</td>\n",
       "      <td>,  I think the new keyboard rivals the gre...</td>\n",
       "      <td>2</td>\n",
       "    </tr>\n",
       "    <tr>\n",
       "      <th>25</th>\n",
       "      <td>features_windows7</td>\n",
       "      <td>I had to uninstall anti, virus and selecte...</td>\n",
       "      <td>2</td>\n",
       "    </tr>\n",
       "  </tbody>\n",
       "</table>\n",
       "</div>"
      ],
      "text/plain": [
       "                           filename  \\\n",
       "50      staff_bestwestern_hotel_sfo   \n",
       "37         price_holiday_inn_london   \n",
       "24          food_holiday_inn_london   \n",
       "23   bathroom_bestwestern_hotel_sfo   \n",
       "40          staff_swissotel_chicago   \n",
       "20          rooms_swissotel_chicago   \n",
       "19    service_bestwestern_hotel_sfo   \n",
       "18    parking_bestwestern_hotel_sfo   \n",
       "41      rooms_bestwestern_hotel_sfo   \n",
       "16          room_holiday_inn_london   \n",
       "11       service_holiday_inn_london   \n",
       "15   location_bestwestern_hotel_sfo   \n",
       "33           food_swissotel_chicago   \n",
       "2   service_swissotel_hotel_chicago   \n",
       "44      location_holiday_inn_london   \n",
       "6        free_bestwestern_hotel_sfo   \n",
       "36   transmission_toyota_camry_2007   \n",
       "38    performance_honda_accord_2008   \n",
       "39        mileage_honda_accord_2008   \n",
       "47        comfort_toyota_camry_2007   \n",
       "46       interior_honda_accord_2008   \n",
       "21        comfort_honda_accord_2008   \n",
       "8         quality_toyota_camry_2007   \n",
       "9        interior_toyota_camry_2007   \n",
       "14          seats_honda_accord_2008   \n",
       "10    gas_mileage_toyota_camry_2007   \n",
       "45            screen_netbook_1005ha   \n",
       "34     updates_garmin_nuvi_255W_gps   \n",
       "48                   speed_windows7   \n",
       "42              price_amazon_kindle   \n",
       "35       voice_garmin_nuvi_255W_gps   \n",
       "43         navigation_amazon_kindle   \n",
       "0     eyesight-issues_amazon_kindle   \n",
       "31      screen_garmin_nuvi_255W_gps   \n",
       "1       battery-life_netbook_1005ha   \n",
       "3     accuracy_garmin_nuvi_255W_gps   \n",
       "4        battery-life_amazon_kindle   \n",
       "5    satellite_garmin_nuvi_255W_gps   \n",
       "7        battery-life_ipod_nano_8gb   \n",
       "12     display_garmin_nuvi_255W_gps   \n",
       "13              sound_ipod_nano_8gb   \n",
       "17             screen_ipod_nano_8gb   \n",
       "22              fonts_amazon_kindle   \n",
       "49            buttons_amazon_kindle   \n",
       "26       performance_netbook_1005ha   \n",
       "27       speed_garmin_nuvi_255W_gps   \n",
       "28              video_ipod_nano_8gb   \n",
       "29  directions_garmin_nuvi_255W_gps   \n",
       "30         size_asus_netbook_1005ha   \n",
       "32          keyboard_netbook_1005ha   \n",
       "25                features_windows7   \n",
       "\n",
       "                                         opinion_text  cluster_label  \n",
       "50                      Staff are friendly and hel...              0  \n",
       "37      All in all, a normal chain hotel on a nice...              0  \n",
       "24       The room was packed to capacity with queu...              0  \n",
       "23      The room was not overly big, but clean and...              0  \n",
       "40       The staff at Swissotel were not particula...              0  \n",
       "20      The Swissotel is one of our favorite hotel...              0  \n",
       "19       Both of us having worked in tourism for o...              0  \n",
       "18      Parking was expensive but I think this is ...              0  \n",
       "41      Great Location ,  Nice   Rooms ,  Helpless...              0  \n",
       "16      We arrived at 23,30 hours and they could n...              0  \n",
       "11      not customer, oriented hotelvery low servi...              0  \n",
       "15              Good Value good location ,  ideal ...              0  \n",
       "33                 The food for our event was deli...              0  \n",
       "2        Mediocre room and service for a very extr...              0  \n",
       "44       Great location for tube and we crammed in...              0  \n",
       "6       The wine reception is a great idea as it i...              0  \n",
       "36       After slowing down, transmission has to b...              1  \n",
       "38     Very happy with my 08 Accord, performance i...              1  \n",
       "39       It's quiet, get good gas mileage and look...              1  \n",
       "47       Ride seems comfortable and gas mileage fa...              1  \n",
       "46      I love the new body style and the interior...              1  \n",
       "21       Drivers seat not comfortable, the car its...              1  \n",
       "8       I previously owned a Toyota 4Runner which ...              1  \n",
       "9        First of all, the interior has way too ma...              1  \n",
       "14                   Front seats are very uncomfor...              1  \n",
       "10       Ride seems comfortable and gas mileage fa...              1  \n",
       "45       Keep in mind that once you get in a room ...              2  \n",
       "34     Another thing to consider was that I paid $...              2  \n",
       "48      Windows 7 is quite simply faster, more sta...              2  \n",
       "42      If a case was included, as with the Kindle...              2  \n",
       "35       The voice prompts and maps are wonderful ...              2  \n",
       "43      In fact, the entire navigation structure h...              2  \n",
       "0       It feels as easy to read as the K1 but doe...              2  \n",
       "31        It is easy to read and when touching the...              2  \n",
       "1       6GHz 533FSB cpu, glossy display, 3, Cell 2...              2  \n",
       "3                          , and is very, very acc...              2  \n",
       "4       After I plugged it in to my USB hub on my ...              2  \n",
       "5                       It's fast to acquire satel...              2  \n",
       "7            short battery life  I moved up from a...              2  \n",
       "12               3 quot  widescreen display was a ...              2  \n",
       "13      headphone jack i got a clear case for it a...              2  \n",
       "17      As always, the video screen is sharp and b...              2  \n",
       "22       Being able to change the font sizes is aw...              2  \n",
       "49      I thought it would be fitting to christen ...              2  \n",
       "26      The Eee Super Hybrid Engine utility lets u...              2  \n",
       "27     Another feature on the 255w is a display of...              2  \n",
       "28      I bought the 8, gig Ipod Nano that has the...              2  \n",
       "29      You also get upscale features like spoken ...              2  \n",
       "30      A few other things I'd like to point out i...              2  \n",
       "32      ,  I think the new keyboard rivals the gre...              2  \n",
       "25      I had to uninstall anti, virus and selecte...              2  "
      ]
     },
     "execution_count": 10,
     "metadata": {},
     "output_type": "execute_result"
    }
   ],
   "source": [
    "from sklearn.cluster import KMeans\n",
    "\n",
    "# 3개의 집합으로 군집화 \n",
    "km_cluster = KMeans(n_clusters=3, max_iter=10000, random_state=0)\n",
    "km_cluster.fit(feature_vect)\n",
    "cluster_label = km_cluster.labels_\n",
    "\n",
    "\n",
    "# 소속 클러스터를 cluster_label 컬럼으로 할당하고 cluster_label 값으로 정렬\n",
    "document_df['cluster_label'] = cluster_label\n",
    "document_df.sort_values(by='cluster_label')"
   ]
  },
  {
   "cell_type": "markdown",
   "metadata": {},
   "source": [
    "[군집별 핵심단어 추출하기]\n",
    "- 각 군집(클러스터)에 속한 문서는, 핵심단어를 주축으로 군집화됨.\n",
    "- KMeans 객체는, 각 군집을 구성하는 단어피처가 군집의 중심(Centroid)을 기준으로 얼마나 가깝게 위치했는지 (clusters_centers_) 속성에서 (배열 값)으로 제공한다 (즉, 행=개별군집, 열=개별피처를 나타내며, 각 배열 내의 값은 개별군집 내의 상대위치를 숫자값으로 표현한 좌표값).\n",
    "ex. cluster_centers[0,1]: 0번 군집에서 2번째 피처의 위치값임.\n",
    "\n",
    "- 이제, 앞 예제에서 군집 3개로 만든 KMeans 객체인 km_cluster에서 cluster_centers_ 속성값을 확인해 보자:"
   ]
  },
  {
   "cell_type": "code",
   "execution_count": 11,
   "metadata": {},
   "outputs": [
    {
     "name": "stdout",
     "output_type": "stream",
     "text": [
      "cluster_centers shape: (3, 2409)\n",
      "[[0.         0.00170335 0.0025537  ... 0.0032582  0.00349413 0.        ]\n",
      " [0.         0.00137309 0.         ... 0.         0.         0.        ]\n",
      " [0.01819865 0.         0.         ... 0.         0.         0.00471073]]\n"
     ]
    }
   ],
   "source": [
    "cluster_centers=km_cluster.cluster_centers_\n",
    "print('cluster_centers shape:',cluster_centers.shape) #3행 2409열 (전체)\n",
    "print(cluster_centers)"
   ]
  },
  {
   "cell_type": "markdown",
   "metadata": {},
   "source": [
    ": cluster_centers_는 (3,2409) 배열 (즉, 군집 3개, 단어 피처는 2409개; 각 행의 배열값은, 각 군집 내의 2409개 피처의 위치가, 개별 중심과 얼마나 가까운지 상대값(0~1, 1에 가까울수록 중심과 가까운 값)으로 나타냄)\n",
    "\n",
    "- 다음으로, cluster_centers_ 속성값을 이용해, 각 군집별 핵심단어를 찾자.\n",
    "- cluster_centers_의 속성: 넘파이 ndarray이므로, ndarray의 argsort()[:,::-1] (: cluster_centers 배열 내의 값이 큰 순으로 정렬된 위치인덱스 값을 반환해 줌 (즉, 큰 값을 가진 배열 내 위치인덱스값을 반환)).\n",
    "cf. 위치 인덱스 값을 사용하여, 핵심단어 피처이름을 출력해낼 수 있기 때문.\n",
    "- 위를 위하여, 새로운 함수 생성 (get_cluster_details())\n",
    "(즉, cluster_centers_ 배열 안에서, 가장 값이 큰 데이터의 위치 인덱스를 추출한 뒤, 해당 인덱스를 이용해 핵심단어이름과 그 때의 상대위치값을 추출해 cluster_details라는 딕셔너리 객체변수에 기록/반환시킴).\n"
   ]
  },
  {
   "cell_type": "code",
   "execution_count": 15,
   "metadata": {},
   "outputs": [],
   "source": [
    "#군집별 상위 n개 핵심단어, 그 단어의 중심위치 상대값, 대상 파일명을 반환하는 사용자 정의함수 get_cluster_details 만들기:\n",
    "def get_cluster_details(cluster_model, cluster_data, feature_names, clusters_num, top_n_features=10):\n",
    "    cluster_details={}\n",
    "    \n",
    "    #cluster_centers 배열값이 큰 순으로 정렬된 인덱스값 반환하기:\n",
    "    #군집 중심점(centroid)마다 할당된 단어피처들의 거리값이 큰 순으로 값을 구하기 위함\n",
    "    centroid_feature_ordered_ind=cluster_model.cluster_centers_.argsort()[:,::-1]\n",
    "    \n",
    "    #개별 군집별로 반복하면서 핵심단어, 그 단어의 중심위치 상대값, 대상 파일명을 입력하기:\n",
    "    for cluster_num in range(clusters_num):\n",
    "        \n",
    "        #개별 군집별 정보를 담을 데이터 초기화하기:\n",
    "        cluster_details[cluster_num]={}\n",
    "        cluster_details[cluster_num]['cluster']=cluster_num\n",
    "        \n",
    "        #cluster_centers_.argsort()[:,::-1]로 구한 인덱스를 이용해 상위 n개 피처단어를 구하기:\n",
    "        top_feature_indexes=centroid_feature_ordered_ind[cluster_num, :top_n_features]\n",
    "        top_features=[feature_names[ind] for ind in top_feature_indexes]\n",
    "        \n",
    "        #top_feature_indexes로 해당 피처단어의 중심위치 상대값 구하기:\n",
    "        top_feature_values=cluster_model.cluster_centers_[cluster_num, top_feature_indexes].tolist()\n",
    "        \n",
    "        #cluster_details 딕셔너리 객체에, 개별 군집별 핵심단어와 중심위치 상대값, 해당 파일명을 입력하기:\n",
    "        cluster_details[cluster_num]['top_features']=top_features\n",
    "        cluster_details[cluster_num]['top_features_value']=top_feature_values\n",
    "        filenames=cluster_data[cluster_data['cluster_label']==cluster_num]['filename']\n",
    "        filenames=filenames.values.tolist()\n",
    "        \n",
    "        cluster_details[cluster_num]['filenames']=filenames\n",
    "        \n",
    "    return cluster_details"
   ]
  },
  {
   "cell_type": "markdown",
   "metadata": {},
   "source": [
    ": get_cluster_details()를 호출하면, 딕셔너리를 원소로 갖는 리스트인 cluster_details를 반환함.\n",
    "(cluster_details는 1) 개별 군집번호, 2) 핵심 단어, 3) 핵심단어 중심 위치 상대값, 4) 파일명 속성 값 정보 포함)\n",
    "- 위를 보기좋게 표현하기 위해, print_cluster_details() 함수를 만들자:"
   ]
  },
  {
   "cell_type": "code",
   "execution_count": 16,
   "metadata": {},
   "outputs": [],
   "source": [
    "def print_cluster_details(cluster_details):\n",
    "    for cluster_num, cluster_detail in cluster_details.items():\n",
    "        print('#### Cluster {0}'.format(cluster_num))\n",
    "        print('상위 피처들:',cluster_detail['top_features'])\n",
    "        print('리뷰 파일명:',cluster_detail['filenames'][:7])\n",
    "        print('==========================================')"
   ]
  },
  {
   "cell_type": "markdown",
   "metadata": {},
   "source": [
    ": 위에서 만든 (1) get_cluster_details(), (2) print_cluster_details()를 호출하자.\n",
    "(1) get_cluster_details() 호출 시 인자: KMeans 군집화 객체, 파일명 추출을 위한 document_df 데이터프레임, 핵심단어 추출을 위한 피처명 리스트, 전체 군집수, 핵심단어 추출 개수.\n",
    "cf. 피처명 리스트: (앞에서 TF-IDF 변환된 tfidf_vect 객체에서) get_feature_names()로 추출."
   ]
  },
  {
   "cell_type": "code",
   "execution_count": 17,
   "metadata": {},
   "outputs": [
    {
     "name": "stdout",
     "output_type": "stream",
     "text": [
      "#### Cluster 0\n",
      "상위 피처들: ['room', 'hotel', 'service', 'location', 'staff', 'food', 'clean', 'bathroom', 'parking', 'room wa']\n",
      "리뷰 파일명: ['service_swissotel_hotel_chicago', 'free_bestwestern_hotel_sfo', 'service_holiday_inn_london', 'location_bestwestern_hotel_sfo', 'room_holiday_inn_london', 'parking_bestwestern_hotel_sfo', 'service_bestwestern_hotel_sfo']\n",
      "==========================================\n",
      "#### Cluster 1\n",
      "상위 피처들: ['interior', 'seat', 'mileage', 'comfortable', 'car', 'gas', 'transmission', 'gas mileage', 'ride', 'comfort']\n",
      "리뷰 파일명: ['quality_toyota_camry_2007', 'interior_toyota_camry_2007', 'gas_mileage_toyota_camry_2007', 'seats_honda_accord_2008', 'comfort_honda_accord_2008', 'transmission_toyota_camry_2007', 'performance_honda_accord_2008']\n",
      "==========================================\n",
      "#### Cluster 2\n",
      "상위 피처들: ['screen', 'battery', 'life', 'battery life', 'keyboard', 'kindle', 'size', 'button', 'easy', 'voice']\n",
      "리뷰 파일명: ['eyesight-issues_amazon_kindle', 'battery-life_netbook_1005ha', 'accuracy_garmin_nuvi_255W_gps', 'battery-life_amazon_kindle', 'satellite_garmin_nuvi_255W_gps', 'battery-life_ipod_nano_8gb', 'display_garmin_nuvi_255W_gps']\n",
      "==========================================\n"
     ]
    }
   ],
   "source": [
    "feature_names=tfidf_vect.get_feature_names()\n",
    "cluster_details=get_cluster_details(cluster_model=km_cluster, cluster_data=document_df, feature_names=feature_names,\n",
    "                                   clusters_num=3, top_n_features=10)\n",
    "print_cluster_details(cluster_details)"
   ]
  },
  {
   "cell_type": "markdown",
   "metadata": {},
   "source": [
    ": (1) 포터블 전자제품, (2) 호텔, (3) 자동차 (모두 관련된 단어들이 정리되어 있음).\n",
    "\n",
    "<08. 문서유사도>\n",
    "\n",
    "[문서 유사도 측정방법: 코사인 유사도]\n",
    "- 문서 간 유사도 비교는 보통 코사인 유사도 (Cosine Similarity)로 측정\n",
    "- 코사인 유사도: 벡터 간 유사도를 비교할 때, (크기보다는) 상호 방향성이 얼마나 유사한지에 관심\n",
    "(즉, 두 벡터 사이의 사이각을 구해, 얼마나 유사한지 수치화한 것)\n",
    "- 두 벡터 A, B의 코사인 값 계산하는 공식에 기반하여, \n",
    "Similarity=cos(theta)=(A*B)/[norm(A)*norm(B)] (분자: 백터의 내적(Dot product); 분모: 각 벡터의 크기(Norm))\n",
    "\n",
    "- 실습) 코사인 유사도 기반으로 문서 간 유사도 계산하기:\n",
    "(1) 먼저, 넘파이 배열 2개에 대한 코사인 유사도를 계산해 주는, 사용자정의함수 cos_similarity() 정의하자:"
   ]
  },
  {
   "cell_type": "code",
   "execution_count": 18,
   "metadata": {},
   "outputs": [],
   "source": [
    "import numpy as np\n",
    "\n",
    "def cos_similarity(v1,v2):\n",
    "    dot_product=np.dot(v1,v2)\n",
    "    l2_norm=(np.sqrt(sum(np.square(v1)))*np.sqrt(sum(np.square(v2))))\n",
    "    similarity=dot_product/l2_norm\n",
    "    \n",
    "    return similarity"
   ]
  },
  {
   "cell_type": "markdown",
   "metadata": {},
   "source": [
    "- 이제, doc_list로 정의된 3개의 짧은 문서간에 유사도를 비교하기 위해, 이 문서를 TF-IDF로 백터화된 행렬로 변환하자:"
   ]
  },
  {
   "cell_type": "code",
   "execution_count": 19,
   "metadata": {},
   "outputs": [
    {
     "name": "stdout",
     "output_type": "stream",
     "text": [
      "(3, 18)\n"
     ]
    }
   ],
   "source": [
    "from sklearn.feature_extraction.text import TfidfVectorizer\n",
    "\n",
    "doc_list=['if you take the blue pill, the story ends',\n",
    "         'if you take the red pill, you stay in Wonderland',\n",
    "         'if you take the red pill, I show you how deep the rabbit hole goes']\n",
    "\n",
    "tfidf_vect_simple=TfidfVectorizer()\n",
    "feature_vect_simple=tfidf_vect_simple.fit_transform(doc_list)\n",
    "print(feature_vect_simple.shape)"
   ]
  },
  {
   "cell_type": "markdown",
   "metadata": {},
   "source": [
    ": 반환된 행렬은 '희소행렬'이므로, 앞에서 만들었던 두 개 문서간 유사도를 측정해주는 cos_similarity() 함수의 인자인 배열로 만들기 위해서는 1) 밀집행렬로 변환한 뒤, 2) 다시 각자를 배열로 변환시켜야 된다.\n",
    "cf. feature_vect_dense[0]: doc_list 1번째 문서의 피처백터화."
   ]
  },
  {
   "cell_type": "code",
   "execution_count": 21,
   "metadata": {},
   "outputs": [
    {
     "name": "stdout",
     "output_type": "stream",
     "text": [
      "문장1과 문장2 간의 코사인유사도: 0.402\n"
     ]
    }
   ],
   "source": [
    "#TFidfVectorizer로 transform()한 결과는 희소행렬이므로, 이를 밀집행렬로 변환하기:\n",
    "feature_vect_dense=feature_vect_simple.todense()\n",
    "\n",
    "#1번째 문장과 2번째 문장의 피처벡터 추출하기:\n",
    "vect1=np.array(feature_vect_dense[0]).reshape(-1,)\n",
    "vect2=np.array(feature_vect_dense[1]).reshape(-1,)\n",
    "\n",
    "#1번째 문장과 2번째 문장의 피처벡터로 2개 문장간 코사인유사도 구하기:\n",
    "similarity_simple=cos_similarity(vect1,vect2)\n",
    "print('문장1과 문장2 간의 코사인유사도: {0:.3f}'.format(similarity_simple))"
   ]
  },
  {
   "cell_type": "markdown",
   "metadata": {},
   "source": [
    "- 다음으로, 1번째와 3번째 문장, 2번째와 3번째 문장 간의 유사도 측정하기:"
   ]
  },
  {
   "cell_type": "code",
   "execution_count": 22,
   "metadata": {},
   "outputs": [
    {
     "name": "stdout",
     "output_type": "stream",
     "text": [
      "문장1과 문장3 간의 코사인유사도:0.404\n",
      "문장2과 문장3 간의 코사인유사도:0.456\n"
     ]
    }
   ],
   "source": [
    "vect1=np.array(feature_vect_dense[0]).reshape(-1,)\n",
    "vect3=np.array(feature_vect_dense[2]).reshape(-1,)\n",
    "similarity_simple=cos_similarity(vect1,vect3)\n",
    "print('문장1과 문장3 간의 코사인유사도:{0:.3f}'.format(similarity_simple))\n",
    "\n",
    "vect2=np.array(feature_vect_dense[1]).reshape(-1,)\n",
    "vect3=np.array(feature_vect_dense[2]).reshape(-1,)\n",
    "similarity_simple=cos_similarity(vect2,vect3)\n",
    "print('문장2과 문장3 간의 코사인유사도:{0:.3f}'.format(similarity_simple))"
   ]
  },
  {
   "cell_type": "markdown",
   "metadata": {},
   "source": [
    "- 사이킷런에서도 더욱 간단하게 코사인유사도 측정이 가능: cosine_similarity() 사용 (2개 모수 입력해야: 1) 비교기준이 되는 문서의 피처행렬, 2) 비교되는 문서의 피처행렬)\n",
    "- cosine_similarity()는 희소행렬/밀집행렬, 행렬/배열 형태가 모두 적용가능.\n",
    "(즉, 이전에 만들었던 사용자정의함수 cos_similarity()를 통한 변환작업이 불필요)\n",
    "- 예) 1번째 문서와 비교해, 1) 자기자신, 2) 2번째, 3) 3번째 문서간의 유사도를 측정해 보자:"
   ]
  },
  {
   "cell_type": "code",
   "execution_count": 23,
   "metadata": {},
   "outputs": [
    {
     "name": "stdout",
     "output_type": "stream",
     "text": [
      "[[1.         0.40207758 0.40425045]]\n"
     ]
    }
   ],
   "source": [
    "from sklearn.metrics.pairwise import cosine_similarity\n",
    "\n",
    "similarity_simple_pair=cosine_similarity(feature_vect_simple[0], feature_vect_simple)\n",
    "print(similarity_simple_pair)"
   ]
  },
  {
   "cell_type": "code",
   "execution_count": 24,
   "metadata": {},
   "outputs": [
    {
     "name": "stdout",
     "output_type": "stream",
     "text": [
      "[[0.40207758 0.40425045]]\n"
     ]
    }
   ],
   "source": [
    "#(위와 동일하나) 만약 1이라는 값이 거슬린다면 제거하고 출력시키면 된다.\n",
    "similarity_simple_pair=cosine_similarity(feature_vect_simple[0], feature_vect_simple[1:])\n",
    "print(similarity_simple_pair)"
   ]
  },
  {
   "cell_type": "markdown",
   "metadata": {},
   "source": [
    "- 마지막으로, 모든 조합에 대한 코사인유사도 값을 출력할 수도 있다 (ndarray형태로 제공됨)."
   ]
  },
  {
   "cell_type": "code",
   "execution_count": 25,
   "metadata": {},
   "outputs": [
    {
     "name": "stdout",
     "output_type": "stream",
     "text": [
      "[[1.         0.40207758 0.40425045]\n",
      " [0.40207758 1.         0.45647296]\n",
      " [0.40425045 0.45647296 1.        ]]\n",
      "shape: (3, 3)\n"
     ]
    }
   ],
   "source": [
    "similarity_simple_pair=cosine_similarity(feature_vect_simple, feature_vect_simple)\n",
    "print(similarity_simple_pair)\n",
    "print('shape:', similarity_simple_pair.shape)"
   ]
  },
  {
   "cell_type": "markdown",
   "metadata": {},
   "source": [
    ": 해석 예) 2번째 행: 2번 문서 & 1, 3번째 문서와의 코사인유사도를 출력함.\n",
    "\n",
    "[Opinion Review 데이터셋을 이용한 문서 유사도 측정하기]"
   ]
  },
  {
   "cell_type": "code",
   "execution_count": 28,
   "metadata": {},
   "outputs": [
    {
     "name": "stderr",
     "output_type": "stream",
     "text": [
      "C:\\Users\\Jiwon\\Anaconda3\\lib\\site-packages\\ipykernel_launcher.py:12: FutureWarning: read_table is deprecated, use read_csv instead, passing sep='\\t'.\n",
      "  if sys.path[0] == '':\n",
      "C:\\Users\\Jiwon\\Anaconda3\\lib\\site-packages\\sklearn\\feature_extraction\\text.py:301: UserWarning: Your stop_words may be inconsistent with your preprocessing. Tokenizing the stop words generated tokens ['ha', 'le', 'u', 'wa'] not in stop_words.\n",
      "  'stop_words.' % sorted(inconsistent))\n"
     ]
    }
   ],
   "source": [
    "import pandas as pd\n",
    "import glob, os\n",
    "from sklearn.feature_extraction.text import TfidfVectorizer\n",
    "from sklearn.cluster import KMeans\n",
    "\n",
    "path=r'Z:\\python\\OpinosisDataset1.0\\topics'\n",
    "all_files=glob.glob(os.path.join(path,\"*.data\"))\n",
    "filename_list=[]\n",
    "opinion_text=[]\n",
    "\n",
    "for file_ in all_files:\n",
    "    df=pd.read_table(file_, index_col=None, header=0, encoding='latin1')\n",
    "    filename_=file_.split('\\\\')[-1]\n",
    "    filename=filename_.split('.')[0]\n",
    "    filename_list.append(filename)\n",
    "    opinion_text.append(df.to_string())\n",
    "    \n",
    "document_df=pd.DataFrame({'filename':filename_list,'opinion_text':opinion_text})\n",
    "\n",
    "tfidf_vect=TfidfVectorizer(tokenizer=LemNormalize, stop_words='english',ngram_range=(1,2),min_df=0.05,max_df=0.85)\n",
    "\n",
    "feature_vect=tfidf_vect.fit_transform(document_df['opinion_text'])\n",
    "\n",
    "km_cluster=KMeans(n_clusters=3,max_iter=10000,random_state=0)\n",
    "km_cluster.fit(feature_vect)\n",
    "cluster_label=km_cluster.labels_\n",
    "cluster_centers=km_cluster.cluster_centers_\n",
    "document_df['cluster_label']=cluster_label"
   ]
  },
  {
   "cell_type": "markdown",
   "metadata": {},
   "source": [
    "- 이전 절에서, 위 문서를 1) 전자제품, 2) 호텔, 3) 자동차를 주제로 군집화했다. \n",
    "- 여기서는 호텔을 주제로 군집화된 문서를 이용해, 특정문서와 다른문서 간 유사도를 측정해 보자.\n",
    "- 각 문서가 피처백터화된 데이터를 cosiine_similarity()를 써서 상호비교해 유사도를 측정할 것이다.\n",
    "- 첫째, 이를 위해 1) 호텔을 주제로 군집화된 데이터를 먼저 추출하고, 2) 이 데이터에 해당하는 TfidfVectorizer의 데이터를 추출하자.\n",
    "(즉, 호텔 군집화 데이터를 기반으로, 별도의 TF-IDF 벡터화를 하지 않고, 바로 위에서 TfdifVectorizer로 만들어진 데이터에서 그대로 추출)\n",
    "- (1) 데이터프레임의 객체변수인 document_df에서, 호텔로 군집화된 문서의 인덱스를 추출한다.\n",
    "(2) 추출된 인덱스를 이용해, TfidfVectorizer 객체변수인 feature_vect에서 호텔로 군집화된 문서의 피처백터를 추출한다."
   ]
  },
  {
   "cell_type": "code",
   "execution_count": 29,
   "metadata": {},
   "outputs": [
    {
     "name": "stdout",
     "output_type": "stream",
     "text": [
      "호텔로 군집화된 문서들의 데이터프레임 인덱스: Int64Index([8, 9, 10, 14, 21, 36, 38, 39, 46, 47], dtype='int64')\n",
      "### 비교기준 문서명 quality_toyota_camry_2007 와 타문서 유사도 ###\n",
      "[[1.         0.23665505 0.13975232 0.11574717 0.23536241 0.12707781\n",
      "  0.17566316 0.11368021 0.21447282 0.25543232]]\n"
     ]
    }
   ],
   "source": [
    "from sklearn.metrics.pairwise import cosine_similarity\n",
    "\n",
    "#(cluster_label=1)인 데이터는 호텔로 군집화된 데이터임. 데이터프레임에서 해당 인덱스를 추출하기:\n",
    "hotel_indexes=document_df[document_df['cluster_label']==1].index\n",
    "print('호텔로 군집화된 문서들의 데이터프레임 인덱스:',hotel_indexes)\n",
    "\n",
    "#호텔로 군집화된 데이터 중, 1번째 문서를 추출해 파일명 표시하기:\n",
    "comparison_docname=document_df.iloc[hotel_indexes[0]]['filename']\n",
    "print('### 비교기준 문서명',comparison_docname,'와 타문서 유사도 ###')\n",
    "\n",
    "'''document_df에서 추출한 인덱스 객체를, feature_vect로 입력해 호텔 군집화된 feature_vect 추출\n",
    "이를 이용해 호텔로 군집화된 문서 중, 1번재 문서와 다른 문서간의 코사인유사도 측정'''\n",
    "similarity_pair=cosine_similarity(feature_vect[hotel_indexes[0]],feature_vect[hotel_indexes])\n",
    "print(similarity_pair)"
   ]
  },
  {
   "cell_type": "markdown",
   "metadata": {},
   "source": [
    "- 위처럼 수치로만 표현하면 와닿지 않으므로, 정렬 & 시각화 하자:\n",
    "(즉, 1번째 문서와, 다른 문서 간에 유사도가 높은 순으로 정렬 및 시각화. \n",
    "cosine_similarity()는 쌍형태의 ndarray를 반환하므로, 이를 판다스 인덱스로 이용하기 위해서, reshape(-1)을 써서 차원을 변경하자.)"
   ]
  },
  {
   "cell_type": "code",
   "execution_count": 30,
   "metadata": {},
   "outputs": [
    {
     "data": {
      "text/plain": [
       "Text(0.5, 1.0, 'quality_toyota_camry_2007')"
      ]
     },
     "execution_count": 30,
     "metadata": {},
     "output_type": "execute_result"
    },
    {
     "data": {
      "image/png": "[encoded data removed]",
      "text/plain": [
       "<Figure size 432x288 with 1 Axes>"
      ]
     },
     "metadata": {
      "needs_background": "light"
     },
     "output_type": "display_data"
    }
   ],
   "source": [
    "import seaborn as sns\n",
    "import numpy as np\n",
    "import matplotlib.pyplot as plt\n",
    "%matplotlib inline\n",
    "\n",
    "#1번째 문서와, 다른문서 간 유사도가 큰 순서대로 정렬한 인덱스를 추출하되, 자기자신은 제외하기:\n",
    "sorted_index=similarity_pair.argsort()[:,::-1]\n",
    "sorted_index=sorted_index[:,1:]\n",
    "\n",
    "#유사도가 큰 순서대로 hotel_indexes를 추출해 재정렬하기:\n",
    "hotel_sorted_indexes=hotel_indexes[sorted_index.reshape(-1)]\n",
    "\n",
    "#유사도가 큰 순서대로 유사도값을 재정렬하되, 자기자신은 제외하기:\n",
    "hotel_1_sim_value=np.sort(similarity_pair.reshape(-1))[::-1]\n",
    "hotel_1_sim_value=hotel_1_sim_value[1:]\n",
    "\n",
    "#유사도가 큰 순서대로 정렬된 인덱스와, 유사도값을 이용해, 파일명과 유사도값을 막대그래프로 시각화하기:\n",
    "hotel_1_sim_df=pd.DataFrame()\n",
    "hotel_1_sim_df['filename']=document_df.iloc[hotel_sorted_indexes]['filename']\n",
    "hotel_1_sim_df['similarity']=hotel_1_sim_value\n",
    "\n",
    "sns.barplot(x='similarity',y='filename',data=hotel_1_sim_df)\n",
    "plt.title(comparison_docname)"
   ]
  },
  {
   "cell_type": "markdown",
   "metadata": {},
   "source": [
    ": 결과적으로, 첫번째 문서 (=quality_toyota_camry_2007)와 가장 비슷한 문서는 (comfort_toyota_camry_2007) (즉, 파란색 맨 위 그래프)이다.\n",
    "\n",
    "<09. 한글 텍스트 처리: 네이버 영화평점 감성분석>\n",
    "- 네이버 영화평점 데이터로 감성분석하기.\n",
    "- 한글 NLP처리는 어렵다.\n",
    "- 파이썬기반의 한글형태소 패키지: KoNLPy 활용.\n",
    "\n",
    "- KoNLPy:\n",
    "1) 파이썬의 대표적인 한글 형태소 패키지\n",
    "- 형태소: 단어로서 의미를 갖는 최소단위\n",
    "- 형태소 분석 (Morphological analysis): 말뭉치를 이러한 형태소 어근단위로 쪼개고, 각 형태소에 품사태깅 (POS tagging)을 부착하는 작업\n",
    "- 5개의 형태소분석 모듈 (꼬꼬마(Kkma), 한나눔(Hannanum), Komoran, 은전한닢 프로젝트(Mecab), Twitter)을 KoNLPy에서 모두 사용 가능\n",
    "(단, Mecab을 사용하려면, 리눅스 환경의 KoNLPy에서만 가능)\n",
    "\n",
    "[데이터 로딩]\n",
    "- 네이버 영화평점 데이터 (3가지 텍스트 데이터셋이 별도로 존재)\n",
    "(1) ratings_train.txt 파일을 데이터프레임으로 로딩하기 (탭(\\t)로 칼럼이 분리됨)"
   ]
  },
  {
   "cell_type": "code",
   "execution_count": 1,
   "metadata": {},
   "outputs": [
    {
     "data": {
      "text/html": [
       "<div>\n",
       "<style scoped>\n",
       "    .dataframe tbody tr th:only-of-type {\n",
       "        vertical-align: middle;\n",
       "    }\n",
       "\n",
       "    .dataframe tbody tr th {\n",
       "        vertical-align: top;\n",
       "    }\n",
       "\n",
       "    .dataframe thead th {\n",
       "        text-align: right;\n",
       "    }\n",
       "</style>\n",
       "<table border=\"1\" class=\"dataframe\">\n",
       "  <thead>\n",
       "    <tr style=\"text-align: right;\">\n",
       "      <th></th>\n",
       "      <th>id</th>\n",
       "      <th>document</th>\n",
       "      <th>label</th>\n",
       "    </tr>\n",
       "  </thead>\n",
       "  <tbody>\n",
       "    <tr>\n",
       "      <th>0</th>\n",
       "      <td>9976970</td>\n",
       "      <td>아 더빙.. 진짜 짜증나네요 목소리</td>\n",
       "      <td>0</td>\n",
       "    </tr>\n",
       "    <tr>\n",
       "      <th>1</th>\n",
       "      <td>3819312</td>\n",
       "      <td>흠...포스터보고 초딩영화줄....오버연기조차 가볍지 않구나</td>\n",
       "      <td>1</td>\n",
       "    </tr>\n",
       "    <tr>\n",
       "      <th>2</th>\n",
       "      <td>10265843</td>\n",
       "      <td>너무재밓었다그래서보는것을추천한다</td>\n",
       "      <td>0</td>\n",
       "    </tr>\n",
       "  </tbody>\n",
       "</table>\n",
       "</div>"
      ],
      "text/plain": [
       "         id                           document  label\n",
       "0   9976970                아 더빙.. 진짜 짜증나네요 목소리      0\n",
       "1   3819312  흠...포스터보고 초딩영화줄....오버연기조차 가볍지 않구나      1\n",
       "2  10265843                  너무재밓었다그래서보는것을추천한다      0"
      ]
     },
     "execution_count": 1,
     "metadata": {},
     "output_type": "execute_result"
    }
   ],
   "source": [
    "import pandas as pd\n",
    "\n",
    "train_df=pd.read_csv('ratings_train.txt',sep='\\t')\n",
    "train_df.head(3)"
   ]
  },
  {
   "cell_type": "code",
   "execution_count": 2,
   "metadata": {},
   "outputs": [
    {
     "data": {
      "text/plain": [
       "0    75173\n",
       "1    74827\n",
       "Name: label, dtype: int64"
      ]
     },
     "execution_count": 2,
     "metadata": {},
     "output_type": "execute_result"
    }
   ],
   "source": [
    "train_df['label'].value_counts() #학습데이터셋: 레이블값 = 1 (긍정), 0 (부정)"
   ]
  },
  {
   "cell_type": "code",
   "execution_count": 3,
   "metadata": {},
   "outputs": [],
   "source": [
    "#(1) train_df: 리뷰텍스트를 가지는 document열에 Null이 일부 존재하므로, 이 값을 공백으로 변환시키기\n",
    "#(2) 문자아닌 '숫자'의 경우 (단어적인 의미가 부족하므로) 파이썬의 정규 표현식 모듈인 re를 이용해, 이 값도 공백으로 변환시키기\n",
    "#(테스트데이터셋도 파일 불러온 뒤, 위와 동일한 데이터 가공하기)\n",
    "import re\n",
    "train_df=train_df.fillna(' ')\n",
    "\n",
    "#정규표현식을 이용해, 숫자 -> 공백으로 변경하기 (정규표현식으로 \\d는 숫자를 의미함):\n",
    "train_df['document']=train_df['document'].apply(lambda x:re.sub(r\"\\d+\",\" \",x))\n",
    "\n",
    "#테스트 데이터셋을 불러오고, 동일하게 Null 및 숫자 -> 공백으로 변경하기:\n",
    "test_df=pd.read_csv('ratings_test.txt',sep='\\t')\n",
    "test_df=test_df.fillna(' ')\n",
    "test_df['document']=test_df['document'].apply(lambda x:re.sub(r\"\\d+\",\" \",x))"
   ]
  },
  {
   "cell_type": "markdown",
   "metadata": {},
   "source": [
    "- 다음은, TF-IDF 단어벡터화하기.\n",
    ": 먼저, 각 문장을 (한글 형태소 분석을 통해) 형태소 단어로 토큰화한다.\n",
    "- (한글 형태소 엔진)은 SNS분석에 적절한 Twitter 클래스를 이용한다.\n",
    "- Twitter 객체의 morphs() 메서드 이용 -> 입력인자로 들어온 문장을, 형태소 단어형태로 '토큰화'해, 리스트 객체로 반환함.\n",
    "- 문장을 형태소 단어형태로 반환하는, 별도의 함수 tokenizer를 tw_tokenizer()라는 이름으로 생성함 (이 함수는 뒤에서 사이킷런의 TfidfVectorizer 클래스의 tokenizer로 사용됨)."
   ]
  },
  {
   "cell_type": "code",
   "execution_count": 4,
   "metadata": {},
   "outputs": [
    {
     "name": "stderr",
     "output_type": "stream",
     "text": [
      "C:\\Users\\Jiwon\\Anaconda3\\lib\\site-packages\\konlpy\\tag\\_okt.py:16: UserWarning: \"Twitter\" has changed to \"Okt\" since KoNLPy v0.4.5.\n",
      "  warn('\"Twitter\" has changed to \"Okt\" since KoNLPy v0.4.5.')\n"
     ]
    }
   ],
   "source": [
    "from konlpy.tag import Twitter\n",
    "\n",
    "twitter=Twitter()\n",
    "def tw_tokenizer(text):\n",
    "    #입력인자로 들어온 텍스트를, 형태소단어로 토큰화해, 리스트 형태로 반환:\n",
    "    tokens_ko=twitter.morphs(text)\n",
    "    return tokens_ko"
   ]
  },
  {
   "cell_type": "markdown",
   "metadata": {},
   "source": [
    "- 사이킷런의 TfidfVectorizer 이용해, TF-IDF 피처모델 생성하자.\n",
    "- tokenizer는 위에서 만든 tw_tokenizer() 함수를 이용.\n",
    "(ngram=(1,2), min_df=3, max_df=상위90%로 제한)"
   ]
  },
  {
   "cell_type": "code",
   "execution_count": 5,
   "metadata": {},
   "outputs": [],
   "source": [
    "from sklearn.feature_extraction.text import TfidfVectorizer\n",
    "from sklearn.linear_model import LogisticRegression\n",
    "from sklearn.model_selection import GridSearchCV\n",
    "\n",
    "# Twitter 객체의 morphs( ) 객체를 이용한 tokenizer를 사용. ngram_range는 (1,2) \n",
    "tfidf_vect = TfidfVectorizer(tokenizer=tw_tokenizer, ngram_range=(1,2), min_df=3, max_df=0.9)\n",
    "tfidf_vect.fit(train_df['document'])\n",
    "tfidf_matrix_train = tfidf_vect.transform(train_df['document'])"
   ]
  },
  {
   "cell_type": "code",
   "execution_count": 13,
   "metadata": {},
   "outputs": [
    {
     "ename": "NameError",
     "evalue": "name 'tfidf_matrix_train' is not defined",
     "output_type": "error",
     "traceback": [
      "\u001b[1;31m---------------------------------------------------------------------------\u001b[0m",
      "\u001b[1;31mNameError\u001b[0m                                 Traceback (most recent call last)",
      "\u001b[1;32m<ipython-input-13-ace39613d456>\u001b[0m in \u001b[0;36m<module>\u001b[1;34m\u001b[0m\n\u001b[0;32m      5\u001b[0m \u001b[0mparams\u001b[0m \u001b[1;33m=\u001b[0m \u001b[1;33m{\u001b[0m \u001b[1;34m'C'\u001b[0m\u001b[1;33m:\u001b[0m \u001b[1;33m[\u001b[0m\u001b[1;36m1\u001b[0m \u001b[1;33m,\u001b[0m\u001b[1;36m3.5\u001b[0m\u001b[1;33m,\u001b[0m \u001b[1;36m4.5\u001b[0m\u001b[1;33m,\u001b[0m \u001b[1;36m5.5\u001b[0m\u001b[1;33m,\u001b[0m \u001b[1;36m10\u001b[0m \u001b[1;33m]\u001b[0m \u001b[1;33m}\u001b[0m\u001b[1;33m\u001b[0m\u001b[1;33m\u001b[0m\u001b[0m\n\u001b[0;32m      6\u001b[0m \u001b[0mgrid_cv\u001b[0m \u001b[1;33m=\u001b[0m \u001b[0mGridSearchCV\u001b[0m\u001b[1;33m(\u001b[0m\u001b[0mlg_clf\u001b[0m \u001b[1;33m,\u001b[0m \u001b[0mparam_grid\u001b[0m\u001b[1;33m=\u001b[0m\u001b[0mparams\u001b[0m \u001b[1;33m,\u001b[0m \u001b[0mcv\u001b[0m\u001b[1;33m=\u001b[0m\u001b[1;36m3\u001b[0m \u001b[1;33m,\u001b[0m\u001b[0mscoring\u001b[0m\u001b[1;33m=\u001b[0m\u001b[1;34m'accuracy'\u001b[0m\u001b[1;33m,\u001b[0m \u001b[0mverbose\u001b[0m\u001b[1;33m=\u001b[0m\u001b[1;36m1\u001b[0m \u001b[1;33m)\u001b[0m\u001b[1;33m\u001b[0m\u001b[1;33m\u001b[0m\u001b[0m\n\u001b[1;32m----> 7\u001b[1;33m \u001b[0mgrid_cv\u001b[0m\u001b[1;33m.\u001b[0m\u001b[0mfit\u001b[0m\u001b[1;33m(\u001b[0m\u001b[0mtfidf_matrix_train\u001b[0m \u001b[1;33m,\u001b[0m \u001b[0mtrain_df\u001b[0m\u001b[1;33m[\u001b[0m\u001b[1;34m'label'\u001b[0m\u001b[1;33m]\u001b[0m \u001b[1;33m)\u001b[0m\u001b[1;33m\u001b[0m\u001b[1;33m\u001b[0m\u001b[0m\n\u001b[0m\u001b[0;32m      8\u001b[0m \u001b[0mprint\u001b[0m\u001b[1;33m(\u001b[0m\u001b[0mgrid_cv\u001b[0m\u001b[1;33m.\u001b[0m\u001b[0mbest_params_\u001b[0m \u001b[1;33m,\u001b[0m \u001b[0mround\u001b[0m\u001b[1;33m(\u001b[0m\u001b[0mgrid_cv\u001b[0m\u001b[1;33m.\u001b[0m\u001b[0mbest_score_\u001b[0m\u001b[1;33m,\u001b[0m\u001b[1;36m4\u001b[0m\u001b[1;33m)\u001b[0m\u001b[1;33m)\u001b[0m\u001b[1;33m\u001b[0m\u001b[1;33m\u001b[0m\u001b[0m\n",
      "\u001b[1;31mNameError\u001b[0m: name 'tfidf_matrix_train' is not defined"
     ]
    }
   ],
   "source": [
    "# Logistic Regression 을 이용하여 감성 분석 Classification 수행. \n",
    "lg_clf = LogisticRegression(random_state=0)\n",
    "\n",
    "# Parameter C 최적화를 위해 GridSearchCV 를 이용. \n",
    "params = { 'C': [1 ,3.5, 4.5, 5.5, 10 ] }\n",
    "grid_cv = GridSearchCV(lg_clf , param_grid=params , cv=3 ,scoring='accuracy', verbose=1 )\n",
    "grid_cv.fit(tfidf_matrix_train , train_df['label'] )\n",
    "print(grid_cv.best_params_ , round(grid_cv.best_score_,4))"
   ]
  },
  {
   "cell_type": "code",
   "execution_count": 14,
   "metadata": {},
   "outputs": [
    {
     "ename": "NotFittedError",
     "evalue": "TfidfVectorizer - Vocabulary wasn't fitted.",
     "output_type": "error",
     "traceback": [
      "\u001b[1;31m---------------------------------------------------------------------------\u001b[0m",
      "\u001b[1;31mNotFittedError\u001b[0m                            Traceback (most recent call last)",
      "\u001b[1;32m<ipython-input-14-c7344bb6a542>\u001b[0m in \u001b[0;36m<module>\u001b[1;34m\u001b[0m\n\u001b[0;32m      2\u001b[0m \u001b[1;33m\u001b[0m\u001b[0m\n\u001b[0;32m      3\u001b[0m \u001b[1;31m# 학습 데이터를 적용한 TfidfVectorizer를 이용하여 테스트 데이터를 TF-IDF 값으로 Feature 변환함.\u001b[0m\u001b[1;33m\u001b[0m\u001b[1;33m\u001b[0m\u001b[1;33m\u001b[0m\u001b[0m\n\u001b[1;32m----> 4\u001b[1;33m \u001b[0mtfidf_matrix_test\u001b[0m \u001b[1;33m=\u001b[0m \u001b[0mtfidf_vect\u001b[0m\u001b[1;33m.\u001b[0m\u001b[0mtransform\u001b[0m\u001b[1;33m(\u001b[0m\u001b[0mtest_df\u001b[0m\u001b[1;33m[\u001b[0m\u001b[1;34m'document'\u001b[0m\u001b[1;33m]\u001b[0m\u001b[1;33m)\u001b[0m\u001b[1;33m\u001b[0m\u001b[1;33m\u001b[0m\u001b[0m\n\u001b[0m\u001b[0;32m      5\u001b[0m \u001b[1;33m\u001b[0m\u001b[0m\n\u001b[0;32m      6\u001b[0m \u001b[1;31m# classifier 는 GridSearchCV에서 최적 파라미터로 학습된 classifier를 그대로 이용\u001b[0m\u001b[1;33m\u001b[0m\u001b[1;33m\u001b[0m\u001b[1;33m\u001b[0m\u001b[0m\n",
      "\u001b[1;32m~\\Anaconda3\\lib\\site-packages\\sklearn\\feature_extraction\\text.py\u001b[0m in \u001b[0;36mtransform\u001b[1;34m(self, raw_documents, copy)\u001b[0m\n\u001b[0;32m   1639\u001b[0m         \u001b[0mcheck_is_fitted\u001b[0m\u001b[1;33m(\u001b[0m\u001b[0mself\u001b[0m\u001b[1;33m,\u001b[0m \u001b[1;34m'_tfidf'\u001b[0m\u001b[1;33m,\u001b[0m \u001b[1;34m'The tfidf vector is not fitted'\u001b[0m\u001b[1;33m)\u001b[0m\u001b[1;33m\u001b[0m\u001b[1;33m\u001b[0m\u001b[0m\n\u001b[0;32m   1640\u001b[0m \u001b[1;33m\u001b[0m\u001b[0m\n\u001b[1;32m-> 1641\u001b[1;33m         \u001b[0mX\u001b[0m \u001b[1;33m=\u001b[0m \u001b[0msuper\u001b[0m\u001b[1;33m(\u001b[0m\u001b[0mTfidfVectorizer\u001b[0m\u001b[1;33m,\u001b[0m \u001b[0mself\u001b[0m\u001b[1;33m)\u001b[0m\u001b[1;33m.\u001b[0m\u001b[0mtransform\u001b[0m\u001b[1;33m(\u001b[0m\u001b[0mraw_documents\u001b[0m\u001b[1;33m)\u001b[0m\u001b[1;33m\u001b[0m\u001b[1;33m\u001b[0m\u001b[0m\n\u001b[0m\u001b[0;32m   1642\u001b[0m         \u001b[1;32mreturn\u001b[0m \u001b[0mself\u001b[0m\u001b[1;33m.\u001b[0m\u001b[0m_tfidf\u001b[0m\u001b[1;33m.\u001b[0m\u001b[0mtransform\u001b[0m\u001b[1;33m(\u001b[0m\u001b[0mX\u001b[0m\u001b[1;33m,\u001b[0m \u001b[0mcopy\u001b[0m\u001b[1;33m=\u001b[0m\u001b[1;32mFalse\u001b[0m\u001b[1;33m)\u001b[0m\u001b[1;33m\u001b[0m\u001b[1;33m\u001b[0m\u001b[0m\n",
      "\u001b[1;32m~\\Anaconda3\\lib\\site-packages\\sklearn\\feature_extraction\\text.py\u001b[0m in \u001b[0;36mtransform\u001b[1;34m(self, raw_documents)\u001b[0m\n\u001b[0;32m   1080\u001b[0m             \u001b[0mself\u001b[0m\u001b[1;33m.\u001b[0m\u001b[0m_validate_vocabulary\u001b[0m\u001b[1;33m(\u001b[0m\u001b[1;33m)\u001b[0m\u001b[1;33m\u001b[0m\u001b[1;33m\u001b[0m\u001b[0m\n\u001b[0;32m   1081\u001b[0m \u001b[1;33m\u001b[0m\u001b[0m\n\u001b[1;32m-> 1082\u001b[1;33m         \u001b[0mself\u001b[0m\u001b[1;33m.\u001b[0m\u001b[0m_check_vocabulary\u001b[0m\u001b[1;33m(\u001b[0m\u001b[1;33m)\u001b[0m\u001b[1;33m\u001b[0m\u001b[1;33m\u001b[0m\u001b[0m\n\u001b[0m\u001b[0;32m   1083\u001b[0m \u001b[1;33m\u001b[0m\u001b[0m\n\u001b[0;32m   1084\u001b[0m         \u001b[1;31m# use the same matrix-building strategy as fit_transform\u001b[0m\u001b[1;33m\u001b[0m\u001b[1;33m\u001b[0m\u001b[1;33m\u001b[0m\u001b[0m\n",
      "\u001b[1;32m~\\Anaconda3\\lib\\site-packages\\sklearn\\feature_extraction\\text.py\u001b[0m in \u001b[0;36m_check_vocabulary\u001b[1;34m(self)\u001b[0m\n\u001b[0;32m    364\u001b[0m         \u001b[1;34m\"\"\"Check if vocabulary is empty or missing (not fit-ed)\"\"\"\u001b[0m\u001b[1;33m\u001b[0m\u001b[1;33m\u001b[0m\u001b[0m\n\u001b[0;32m    365\u001b[0m         \u001b[0mmsg\u001b[0m \u001b[1;33m=\u001b[0m \u001b[1;34m\"%(name)s - Vocabulary wasn't fitted.\"\u001b[0m\u001b[1;33m\u001b[0m\u001b[1;33m\u001b[0m\u001b[0m\n\u001b[1;32m--> 366\u001b[1;33m         \u001b[0mcheck_is_fitted\u001b[0m\u001b[1;33m(\u001b[0m\u001b[0mself\u001b[0m\u001b[1;33m,\u001b[0m \u001b[1;34m'vocabulary_'\u001b[0m\u001b[1;33m,\u001b[0m \u001b[0mmsg\u001b[0m\u001b[1;33m=\u001b[0m\u001b[0mmsg\u001b[0m\u001b[1;33m)\u001b[0m\u001b[1;33m,\u001b[0m\u001b[1;33m\u001b[0m\u001b[1;33m\u001b[0m\u001b[0m\n\u001b[0m\u001b[0;32m    367\u001b[0m \u001b[1;33m\u001b[0m\u001b[0m\n\u001b[0;32m    368\u001b[0m         \u001b[1;32mif\u001b[0m \u001b[0mlen\u001b[0m\u001b[1;33m(\u001b[0m\u001b[0mself\u001b[0m\u001b[1;33m.\u001b[0m\u001b[0mvocabulary_\u001b[0m\u001b[1;33m)\u001b[0m \u001b[1;33m==\u001b[0m \u001b[1;36m0\u001b[0m\u001b[1;33m:\u001b[0m\u001b[1;33m\u001b[0m\u001b[1;33m\u001b[0m\u001b[0m\n",
      "\u001b[1;32m~\\Anaconda3\\lib\\site-packages\\sklearn\\utils\\validation.py\u001b[0m in \u001b[0;36mcheck_is_fitted\u001b[1;34m(estimator, attributes, msg, all_or_any)\u001b[0m\n\u001b[0;32m    949\u001b[0m \u001b[1;33m\u001b[0m\u001b[0m\n\u001b[0;32m    950\u001b[0m     \u001b[1;32mif\u001b[0m \u001b[1;32mnot\u001b[0m \u001b[0mall_or_any\u001b[0m\u001b[1;33m(\u001b[0m\u001b[1;33m[\u001b[0m\u001b[0mhasattr\u001b[0m\u001b[1;33m(\u001b[0m\u001b[0mestimator\u001b[0m\u001b[1;33m,\u001b[0m \u001b[0mattr\u001b[0m\u001b[1;33m)\u001b[0m \u001b[1;32mfor\u001b[0m \u001b[0mattr\u001b[0m \u001b[1;32min\u001b[0m \u001b[0mattributes\u001b[0m\u001b[1;33m]\u001b[0m\u001b[1;33m)\u001b[0m\u001b[1;33m:\u001b[0m\u001b[1;33m\u001b[0m\u001b[1;33m\u001b[0m\u001b[0m\n\u001b[1;32m--> 951\u001b[1;33m         \u001b[1;32mraise\u001b[0m \u001b[0mNotFittedError\u001b[0m\u001b[1;33m(\u001b[0m\u001b[0mmsg\u001b[0m \u001b[1;33m%\u001b[0m \u001b[1;33m{\u001b[0m\u001b[1;34m'name'\u001b[0m\u001b[1;33m:\u001b[0m \u001b[0mtype\u001b[0m\u001b[1;33m(\u001b[0m\u001b[0mestimator\u001b[0m\u001b[1;33m)\u001b[0m\u001b[1;33m.\u001b[0m\u001b[0m__name__\u001b[0m\u001b[1;33m}\u001b[0m\u001b[1;33m)\u001b[0m\u001b[1;33m\u001b[0m\u001b[1;33m\u001b[0m\u001b[0m\n\u001b[0m\u001b[0;32m    952\u001b[0m \u001b[1;33m\u001b[0m\u001b[0m\n\u001b[0;32m    953\u001b[0m \u001b[1;33m\u001b[0m\u001b[0m\n",
      "\u001b[1;31mNotFittedError\u001b[0m: TfidfVectorizer - Vocabulary wasn't fitted."
     ]
    }
   ],
   "source": [
    "from sklearn.metrics import accuracy_score\n",
    "\n",
    "# 학습 데이터를 적용한 TfidfVectorizer를 이용하여 테스트 데이터를 TF-IDF 값으로 Feature 변환함. \n",
    "tfidf_matrix_test = tfidf_vect.transform(test_df['document'])\n",
    "\n",
    "# classifier 는 GridSearchCV에서 최적 파라미터로 학습된 classifier를 그대로 이용\n",
    "best_estimator = grid_cv.best_estimator_\n",
    "preds = best_estimator.predict(tfidf_matrix_test)\n",
    "\n",
    "print('Logistic Regression 정확도: ',accuracy_score(test_df['label'],preds))"
   ]
  },
  {
   "cell_type": "markdown",
   "metadata": {},
   "source": [
    "<10. 텍스트분석 실습: 캐글 Mercari Price Suggestion Challenge>\n",
    "- 일본 대형 온라인 쇼핑몰인 Mercari사 제품에 대해 가격을 예측하기\n",
    "- 데이터셋 구성: 제품에 대한 여러 속성, 제품설명 등의 텍스트 데이터 포함\n",
    "- 머신러닝 모델은, 주어진 속성에 따라 제품의 예측가격을 판매자에게 자동 제공할 수 있게 해줌\n",
    "- 데이터셋 속성:\n",
    "1) train_id (데이터 아이디), 2) name (제품명), 3) item_condition_id (판매자가 제공하는 제품상태), 4) category_name (카테고리이름), 5) brand_name (브랜드 이름), 6) price (제품가격, 예측을 위한 타겟 속성), 7) shipping (배송비 여부, 1이면 무료, 0이면 소비자가 부담), 8) item_description (제품에 대한 설명)\n",
    "- Price: 예측해야 할 타겟 값.\n",
    "- 회귀로 피처를 학습한 후, 가격을 예측하는 문제.\n",
    "- 기존 회귀 예제와 다른점: item_description 같은 텍스트 형태의 비정형데이터와, 다른 정형 속성을 함께 활용해 회귀분석한다.\n",
    "\n",
    "[데이터 전처리]"
   ]
  },
  {
   "cell_type": "code",
   "execution_count": 15,
   "metadata": {},
   "outputs": [
    {
     "name": "stdout",
     "output_type": "stream",
     "text": [
      "(1379210, 8)\n"
     ]
    },
    {
     "data": {
      "text/html": [
       "<div>\n",
       "<style scoped>\n",
       "    .dataframe tbody tr th:only-of-type {\n",
       "        vertical-align: middle;\n",
       "    }\n",
       "\n",
       "    .dataframe tbody tr th {\n",
       "        vertical-align: top;\n",
       "    }\n",
       "\n",
       "    .dataframe thead th {\n",
       "        text-align: right;\n",
       "    }\n",
       "</style>\n",
       "<table border=\"1\" class=\"dataframe\">\n",
       "  <thead>\n",
       "    <tr style=\"text-align: right;\">\n",
       "      <th></th>\n",
       "      <th>train_id</th>\n",
       "      <th>name</th>\n",
       "      <th>item_condition_id</th>\n",
       "      <th>category_name</th>\n",
       "      <th>brand_name</th>\n",
       "      <th>price</th>\n",
       "      <th>shipping</th>\n",
       "      <th>item_description</th>\n",
       "    </tr>\n",
       "  </thead>\n",
       "  <tbody>\n",
       "    <tr>\n",
       "      <th>0</th>\n",
       "      <td>0</td>\n",
       "      <td>MLB Cincinnati Reds T Shirt Size XL</td>\n",
       "      <td>3</td>\n",
       "      <td>Men/Tops/T-shirts</td>\n",
       "      <td>NaN</td>\n",
       "      <td>10.0</td>\n",
       "      <td>1.0</td>\n",
       "      <td>No description yet</td>\n",
       "    </tr>\n",
       "    <tr>\n",
       "      <th>1</th>\n",
       "      <td>1</td>\n",
       "      <td>Razer BlackWidow Chroma Keyboard</td>\n",
       "      <td>3</td>\n",
       "      <td>Electronics/Computers &amp; Tablets/Components &amp; P...</td>\n",
       "      <td>Razer</td>\n",
       "      <td>52.0</td>\n",
       "      <td>0.0</td>\n",
       "      <td>This keyboard is in great condition and works ...</td>\n",
       "    </tr>\n",
       "    <tr>\n",
       "      <th>2</th>\n",
       "      <td>2</td>\n",
       "      <td>AVA-VIV Blouse</td>\n",
       "      <td>1</td>\n",
       "      <td>Women/Tops &amp; Blouses/Blouse</td>\n",
       "      <td>Target</td>\n",
       "      <td>10.0</td>\n",
       "      <td>1.0</td>\n",
       "      <td>Adorable top with a hint of lace and a key hol...</td>\n",
       "    </tr>\n",
       "  </tbody>\n",
       "</table>\n",
       "</div>"
      ],
      "text/plain": [
       "   train_id                                 name  item_condition_id  \\\n",
       "0         0  MLB Cincinnati Reds T Shirt Size XL                  3   \n",
       "1         1     Razer BlackWidow Chroma Keyboard                  3   \n",
       "2         2                       AVA-VIV Blouse                  1   \n",
       "\n",
       "                                       category_name brand_name  price  \\\n",
       "0                                  Men/Tops/T-shirts        NaN   10.0   \n",
       "1  Electronics/Computers & Tablets/Components & P...      Razer   52.0   \n",
       "2                        Women/Tops & Blouses/Blouse     Target   10.0   \n",
       "\n",
       "   shipping                                   item_description  \n",
       "0       1.0                                 No description yet  \n",
       "1       0.0  This keyboard is in great condition and works ...  \n",
       "2       1.0  Adorable top with a hint of lace and a key hol...  "
      ]
     },
     "execution_count": 15,
     "metadata": {},
     "output_type": "execute_result"
    }
   ],
   "source": [
    "from sklearn.linear_model import Ridge, LogisticRegression\n",
    "from sklearn.model_selection import train_test_split, cross_val_score\n",
    "from sklearn.feature_extraction.text import CountVectorizer, TfidfVectorizer\n",
    "import pandas as pd\n",
    "\n",
    "mercari_df=pd.read_csv('mercari_train.tsv',sep='\\t')\n",
    "print(mercari_df.shape)\n",
    "mercari_df.head(3)"
   ]
  },
  {
   "cell_type": "code",
   "execution_count": 16,
   "metadata": {},
   "outputs": [
    {
     "name": "stdout",
     "output_type": "stream",
     "text": [
      "<class 'pandas.core.frame.DataFrame'>\n",
      "RangeIndex: 1379210 entries, 0 to 1379209\n",
      "Data columns (total 8 columns):\n",
      "train_id             1379210 non-null int64\n",
      "name                 1379210 non-null object\n",
      "item_condition_id    1379210 non-null int64\n",
      "category_name        1373329 non-null object\n",
      "brand_name           790738 non-null object\n",
      "price                1379209 non-null float64\n",
      "shipping             1379209 non-null float64\n",
      "item_description     1379205 non-null object\n",
      "dtypes: float64(2), int64(2), object(4)\n",
      "memory usage: 84.2+ MB\n",
      "None\n"
     ]
    }
   ],
   "source": [
    "print(mercari_df.info())"
   ]
  },
  {
   "cell_type": "code",
   "execution_count": 17,
   "metadata": {},
   "outputs": [
    {
     "data": {
      "text/plain": [
       "<matplotlib.axes._subplots.AxesSubplot at 0x15b2c55828>"
      ]
     },
     "execution_count": 17,
     "metadata": {},
     "output_type": "execute_result"
    },
    {
     "data": {
      "image/png": "[encoded data removed]",
      "text/plain": [
       "<Figure size 432x288 with 1 Axes>"
      ]
     },
     "metadata": {
      "needs_background": "light"
     },
     "output_type": "display_data"
    }
   ],
   "source": [
    "import matplotlib.pyplot as plt\n",
    "import seaborn as sns\n",
    "%matplotlib inline\n",
    "\n",
    "y_train_df=mercari_df['price']\n",
    "plt.figure(figsize=(6,4))\n",
    "sns.distplot(y_train_df.dropna(),kde=False)"
   ]
  },
  {
   "cell_type": "code",
   "execution_count": 18,
   "metadata": {},
   "outputs": [
    {
     "data": {
      "text/plain": [
       "<matplotlib.axes._subplots.AxesSubplot at 0x15899ff400>"
      ]
     },
     "execution_count": 18,
     "metadata": {},
     "output_type": "execute_result"
    },
    {
     "data": {
      "image/png": "[encoded data removed]",
      "text/plain": [
       "<Figure size 432x288 with 1 Axes>"
      ]
     },
     "metadata": {
      "needs_background": "light"
     },
     "output_type": "display_data"
    }
   ],
   "source": [
    "import numpy as np\n",
    "y_train_df=np.log1p(y_train_df)\n",
    "sns.distplot(y_train_df.dropna(),kde=False)"
   ]
  },
  {
   "cell_type": "code",
   "execution_count": 19,
   "metadata": {},
   "outputs": [
    {
     "data": {
      "text/plain": [
       "0    2.397895\n",
       "1    3.970292\n",
       "2    2.397895\n",
       "Name: price, dtype: float64"
      ]
     },
     "execution_count": 19,
     "metadata": {},
     "output_type": "execute_result"
    }
   ],
   "source": [
    "mercari_df['price']=np.log1p(mercari_df['price'])\n",
    "mercari_df['price'].head(3)"
   ]
  },
  {
   "cell_type": "code",
   "execution_count": 20,
   "metadata": {},
   "outputs": [
    {
     "name": "stdout",
     "output_type": "stream",
     "text": [
      "Shipping 값 유형:\n",
      " 0.0    762147\n",
      "1.0    617062\n",
      "Name: shipping, dtype: int64\n",
      "item_condition_id 값 유형:\n",
      " 1    595938\n",
      "3    402034\n",
      "2    349258\n",
      "4     29764\n",
      "5      2216\n",
      "Name: item_condition_id, dtype: int64\n"
     ]
    }
   ],
   "source": [
    "print('Shipping 값 유형:\\n',mercari_df['shipping'].value_counts())\n",
    "print('item_condition_id 값 유형:\\n', mercari_df['item_condition_id'].value_counts())"
   ]
  },
  {
   "cell_type": "code",
   "execution_count": 21,
   "metadata": {},
   "outputs": [
    {
     "data": {
      "text/plain": [
       "76673"
      ]
     },
     "execution_count": 21,
     "metadata": {},
     "output_type": "execute_result"
    }
   ],
   "source": [
    "boolean_cond=mercari_df['item_description']=='No description yet'\n",
    "mercari_df[boolean_cond]['item_description'].count()"
   ]
  },
  {
   "cell_type": "code",
   "execution_count": 22,
   "metadata": {},
   "outputs": [
    {
     "ename": "ValueError",
     "evalue": "not enough values to unpack (expected 3, got 2)",
     "output_type": "error",
     "traceback": [
      "\u001b[1;31m---------------------------------------------------------------------------\u001b[0m",
      "\u001b[1;31mValueError\u001b[0m                                Traceback (most recent call last)",
      "\u001b[1;32m<ipython-input-22-2d8c1572a486>\u001b[0m in \u001b[0;36m<module>\u001b[1;34m\u001b[0m\n\u001b[0;32m      5\u001b[0m         \u001b[1;32mreturn\u001b[0m \u001b[1;33m[\u001b[0m\u001b[1;34m'Other_Null'\u001b[0m\u001b[1;33m,\u001b[0m \u001b[1;34m'Other_Null'\u001b[0m\u001b[1;33m,\u001b[0m \u001b[1;34m'Other_Null'\u001b[0m\u001b[1;33m]\u001b[0m\u001b[1;33m\u001b[0m\u001b[1;33m\u001b[0m\u001b[0m\n\u001b[0;32m      6\u001b[0m \u001b[1;33m\u001b[0m\u001b[0m\n\u001b[1;32m----> 7\u001b[1;33m \u001b[0mmercari_df\u001b[0m\u001b[1;33m[\u001b[0m\u001b[1;34m'cat_dae'\u001b[0m\u001b[1;33m]\u001b[0m\u001b[1;33m,\u001b[0m \u001b[0mmercari_df\u001b[0m\u001b[1;33m[\u001b[0m\u001b[1;34m'cat_jung'\u001b[0m\u001b[1;33m]\u001b[0m\u001b[1;33m,\u001b[0m \u001b[0mmercari_df\u001b[0m\u001b[1;33m[\u001b[0m\u001b[1;34m'cat_so'\u001b[0m\u001b[1;33m]\u001b[0m\u001b[1;33m=\u001b[0m\u001b[0mzip\u001b[0m\u001b[1;33m(\u001b[0m\u001b[1;33m*\u001b[0m\u001b[0mmercari_df\u001b[0m\u001b[1;33m[\u001b[0m\u001b[1;34m'category_name'\u001b[0m\u001b[1;33m]\u001b[0m\u001b[1;33m.\u001b[0m\u001b[0mapply\u001b[0m\u001b[1;33m(\u001b[0m\u001b[1;32mlambda\u001b[0m \u001b[0mx\u001b[0m\u001b[1;33m:\u001b[0m\u001b[0msplit_cat\u001b[0m\u001b[1;33m(\u001b[0m\u001b[0mx\u001b[0m\u001b[1;33m)\u001b[0m\u001b[1;33m)\u001b[0m\u001b[1;33m)\u001b[0m\u001b[1;33m\u001b[0m\u001b[1;33m\u001b[0m\u001b[0m\n\u001b[0m\u001b[0;32m      8\u001b[0m \u001b[1;33m\u001b[0m\u001b[0m\n\u001b[0;32m      9\u001b[0m \u001b[0mprint\u001b[0m\u001b[1;33m(\u001b[0m\u001b[1;34m'대분류 유형:\\n'\u001b[0m\u001b[1;33m,\u001b[0m \u001b[0mmercari_df\u001b[0m\u001b[1;33m[\u001b[0m\u001b[1;34m'cat_dae'\u001b[0m\u001b[1;33m]\u001b[0m\u001b[1;33m.\u001b[0m\u001b[0mvalue_counts\u001b[0m\u001b[1;33m(\u001b[0m\u001b[1;33m)\u001b[0m\u001b[1;33m)\u001b[0m \u001b[1;31m#유형&건수 출력\u001b[0m\u001b[1;33m\u001b[0m\u001b[1;33m\u001b[0m\u001b[0m\n",
      "\u001b[1;31mValueError\u001b[0m: not enough values to unpack (expected 3, got 2)"
     ]
    }
   ],
   "source": [
    "def split_cat(category_name):\n",
    "    try:\n",
    "        return category_name.split('/')\n",
    "    except:\n",
    "        return ['Other_Null', 'Other_Null', 'Other_Null']\n",
    "    \n",
    "mercari_df['cat_dae'], mercari_df['cat_jung'], mercari_df['cat_so']=zip(*mercari_df['category_name'].apply(lambda x:split_cat(x)))\n",
    "\n",
    "print('대분류 유형:\\n', mercari_df['cat_dae'].value_counts()) #유형&건수 출력\n",
    "\n",
    "print('중분류 개수:',mercari_df['cat_jung'].nunique()) #분류개수만 출력\n",
    "print('소분류 개수:',mercari_df['cat_so'].nunique())"
   ]
  },
  {
   "cell_type": "code",
   "execution_count": null,
   "metadata": {},
   "outputs": [],
   "source": [
    "'test1/test2/test3'.split('/')"
   ]
  },
  {
   "cell_type": "code",
   "execution_count": null,
   "metadata": {},
   "outputs": [],
   "source": [
    "# apply lambda에서 호출되는 대,중,소 분할 함수 생성, 대,중,소 값을 리스트 반환\n",
    "def split_cat(category_name):\n",
    "    try:\n",
    "        return category_name.split('/')\n",
    "    except:\n",
    "        return ['Other_Null' , 'Other_Null' , 'Other_Null']\n",
    "\n",
    "# 위의 split_cat( )을 apply lambda에서 호출하여 대,중,소 컬럼을 mercari_df에 생성. \n",
    "mercari_df['category_list'] = mercari_df['category_name'].apply(lambda x : split_cat(x))\n",
    "mercari_df['category_list'].head()"
   ]
  },
  {
   "cell_type": "code",
   "execution_count": null,
   "metadata": {},
   "outputs": [],
   "source": [
    "mercari_df['cat_dae'] = mercari_df['category_list'].apply(lambda x:x[0])\n",
    "mercari_df['cat_jung'] = mercari_df['category_list'].apply(lambda x:x[1])\n",
    "mercari_df['cat_so'] = mercari_df['category_list'].apply(lambda x:x[2])\n",
    "\n",
    "mercari_df.drop('category_list', axis=1, inplace=True) "
   ]
  },
  {
   "cell_type": "code",
   "execution_count": null,
   "metadata": {},
   "outputs": [],
   "source": [
    "mercari_df[['cat_dae','cat_jung','cat_so']].head()"
   ]
  },
  {
   "cell_type": "code",
   "execution_count": null,
   "metadata": {},
   "outputs": [],
   "source": [
    "mercari_df['brand_name'] = mercari_df['brand_name'].fillna(value='Other_Null')\n",
    "mercari_df['category_name'] = mercari_df['category_name'].fillna(value='Other_Null')\n",
    "mercari_df['item_description'] = mercari_df['item_description'].fillna(value='Other_Null')\n",
    "\n",
    "# 각 컬럼별로 Null값 건수 확인. 모두 0가 나와야 합니다.\n",
    "mercari_df.isnull().sum()"
   ]
  },
  {
   "cell_type": "code",
   "execution_count": null,
   "metadata": {},
   "outputs": [],
   "source": [
    "mercari_df.info()"
   ]
  },
  {
   "cell_type": "markdown",
   "metadata": {},
   "source": [
    "[피처 인코딩과 피처 백터화]\n",
    "- 문자열로 된 열들에 대해, 레이블 or 원-핫 인코딩을 수행하거나, 피처백터화로 변환할 열을 선별하자.\n",
    "- 상품 가격 (Price)를 예측해야 함.\n",
    "- 1) 선형회귀 모형, 2) 회귀나무 모형을 모두 적용할 것.\n",
    "- 특히, 선형회귀는 모두 원-핫 인코딩을 적용함.\n",
    "- 피처백터화: 1) 비교적 짧은 텍스트: Count 기반의 백터화, 2) 긴 텍스트: TD-IDF 기반의 백터화.\n",
    "\n",
    "(1) brand_name 열 (브랜드명)"
   ]
  },
  {
   "cell_type": "code",
   "execution_count": null,
   "metadata": {},
   "outputs": [],
   "source": [
    "print('brand name의 유형 건수:', mercari_df['brand_name'].nunique())\n",
    "print('brand name 샘플 5개: \\n', mercari_df['brand_name'].value_counts()[:5])"
   ]
  },
  {
   "cell_type": "code",
   "execution_count": null,
   "metadata": {},
   "outputs": [],
   "source": [
    "print('name 의 종류 갯수 :', mercari_df['name'].nunique())\n",
    "print('name sample 7건 : \\n', mercari_df['name'][:7])"
   ]
  },
  {
   "cell_type": "code",
   "execution_count": null,
   "metadata": {},
   "outputs": [],
   "source": [
    "pd.set_option('max_colwidth',200)\n",
    "\n",
    "print('item_description 평균 문자열 크기:', mercari_df['item_description'].str.len().mean())\n",
    "mercari_df['item_description'][:2]"
   ]
  },
  {
   "cell_type": "code",
   "execution_count": null,
   "metadata": {},
   "outputs": [],
   "source": []
  },
  {
   "cell_type": "code",
   "execution_count": null,
   "metadata": {},
   "outputs": [],
   "source": []
  },
  {
   "cell_type": "code",
   "execution_count": null,
   "metadata": {},
   "outputs": [],
   "source": []
  }
 ],
 "metadata": {
  "kernelspec": {
   "display_name": "Python 3",
   "language": "python",
   "name": "python3"
  },
  "language_info": {
   "codemirror_mode": {
    "name": "ipython",
    "version": 3
   },
   "file_extension": ".py",
   "mimetype": "text/x-python",
   "name": "python",
   "nbconvert_exporter": "python",
   "pygments_lexer": "ipython3",
   "version": "3.7.3"
  }
 },
 "nbformat": 4,
 "nbformat_minor": 2
}
